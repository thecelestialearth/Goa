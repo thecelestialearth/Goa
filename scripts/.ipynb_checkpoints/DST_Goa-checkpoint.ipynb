{
 "cells": [
  {
   "cell_type": "code",
   "execution_count": 91,
   "metadata": {},
   "outputs": [],
   "source": [
    "import pandas as pd\n",
    "import numpy as np\n",
    "import plotly.express as px\n",
    "import os\n",
    "import altair as alt\n",
    "import panel as pn\n",
    "from function import *"
   ]
  },
  {
   "cell_type": "markdown",
   "metadata": {},
   "source": [
    "# **PlotResults**"
   ]
  },
  {
   "cell_type": "markdown",
   "metadata": {},
   "source": [
    "## Read the CSV"
   ]
  },
  {
   "cell_type": "code",
   "execution_count": 92,
   "metadata": {},
   "outputs": [],
   "source": [
    "# name of the CSV\n",
    "n_file = 'GOA_Baseline.csv'      # file name\n",
    "location = 'Output_Data'               # file address \n",
    "n_file_r = pd.read_csv(location +'/' + n_file, low_memory=False)"
   ]
  },
  {
   "cell_type": "code",
   "execution_count": null,
   "metadata": {},
   "outputs": [],
   "source": []
  },
  {
   "cell_type": "markdown",
   "metadata": {},
   "source": [
    "## Name of techs"
   ]
  },
  {
   "cell_type": "markdown",
   "metadata": {},
   "source": [
    "Read the excel file that contains the name of technologies and the alias or easy names"
   ]
  },
  {
   "cell_type": "code",
   "execution_count": 93,
   "metadata": {},
   "outputs": [
    {
     "name": "stderr",
     "output_type": "stream",
     "text": [
      "c:\\users\\ghosh\\anaconda3\\envs\\message1.1\\lib\\site-packages\\ipykernel_launcher.py:8: FutureWarning:\n",
      "\n",
      "Sorting because non-concatenation axis is not aligned. A future version\n",
      "of pandas will change to not sort by default.\n",
      "\n",
      "To accept the future behavior, pass 'sort=False'.\n",
      "\n",
      "To retain the current behavior and silence the warning, pass 'sort=True'.\n",
      "\n",
      "\n"
     ]
    }
   ],
   "source": [
    "#names of tech  The file Tech_names contains a dictionary with the techs and easy names for the Goa model\n",
    "\n",
    "#names of tech elecetrcity\n",
    "elec_en = pd.read_excel('Tech_names_Goa.xlsx', sheet_name='Power', usecols='A,B,C,D')\n",
    "#names of other sectors\n",
    "fe_en = pd.read_excel('Tech_names_Goa.xlsx', sheet_name='sectoral_mix', usecols='A,D,E,F')\n",
    "#tn names of all tech joined for emissions\n",
    "emi_en = pd.concat([elec_en,fe_en], ignore_index=True)\n",
    "# alias for primary names\n",
    "pe_en = pd.read_excel('Tech_names_Goa.xlsx', sheet_name='primary_e', usecols='A,B,C')"
   ]
  },
  {
   "cell_type": "code",
   "execution_count": null,
   "metadata": {},
   "outputs": [],
   "source": []
  },
  {
   "cell_type": "code",
   "execution_count": 94,
   "metadata": {},
   "outputs": [],
   "source": [
    "#sectorial mix\n",
    "sector_names = pd.read_excel('Tech_names_Goa.xlsx', usecols='A, B,C,D,E,F', sheet_name='sectoral_mix')\n",
    "\n",
    "sector_namesT = sector_names[sector_names['Sector'].isin(['Public','Private','Freight'])] # to use in rate of use by tech for the transport\n",
    "sector_namesOTH = sector_names[~sector_names['Sector'].isin(['Public','Private','Freight'])]"
   ]
  },
  {
   "cell_type": "code",
   "execution_count": 95,
   "metadata": {},
   "outputs": [
    {
     "name": "stderr",
     "output_type": "stream",
     "text": [
      "c:\\users\\ghosh\\anaconda3\\envs\\message1.1\\lib\\site-packages\\ipykernel_launcher.py:1: FutureWarning:\n",
      "\n",
      "Sorting because non-concatenation axis is not aligned. A future version\n",
      "of pandas will change to not sort by default.\n",
      "\n",
      "To accept the future behavior, pass 'sort=False'.\n",
      "\n",
      "To retain the current behavior and silence the warning, pass 'sort=True'.\n",
      "\n",
      "\n"
     ]
    }
   ],
   "source": [
    "colors = pd.concat([sector_names,pe_en,emi_en])[['Tech_name','Sector','Fuel','Color']]\n",
    "fuel_colors = colors[['Fuel','Color']].drop_duplicates().set_index('Fuel')\n",
    "sec_colors = colors[['Sector','Color']].drop_duplicates().set_index('Sector')\n",
    "tec_colors = colors[['Tech_name','Color']].drop_duplicates().set_index('Tech_name')\n",
    "\n",
    "fuel_colors = fuel_colors[~fuel_colors.index.duplicated()].to_dict()['Color']\n",
    "sec_colors = sec_colors[~sec_colors.index.duplicated(keep='first')].to_dict()['Color']\n",
    "tec_colors = tec_colors[~tec_colors.index.duplicated(keep='first')].to_dict()['Color']"
   ]
  },
  {
   "cell_type": "markdown",
   "metadata": {},
   "source": [
    "## Reading csv file and segregating"
   ]
  },
  {
   "cell_type": "code",
   "execution_count": 96,
   "metadata": {},
   "outputs": [],
   "source": [
    "act = n_file_r.loc[n_file_r.NAME=='ProdByTech']\n",
    "pe = n_file_r.loc[n_file_r.NAME=='ProdAnn']\n",
    "new_cap = n_file_r.loc[n_file_r.NAME=='NewCapacity']\n",
    "tot_cap = n_file_r.loc[n_file_r.NAME=='TotCapacityAnn']\n",
    "dem = n_file_r.loc[n_file_r.NAME=='RateOfUseByTech']\n",
    "aet = n_file_r.loc[n_file_r.NAME=='AnnTechEmission']\n",
    "inv = n_file_r.loc[n_file_r.NAME=='DiscCapitalInvestment']"
   ]
  },
  {
   "cell_type": "code",
   "execution_count": null,
   "metadata": {},
   "outputs": [],
   "source": []
  },
  {
   "cell_type": "markdown",
   "metadata": {},
   "source": [
    "# Primary Energy"
   ]
  },
  {
   "cell_type": "code",
   "execution_count": 97,
   "metadata": {},
   "outputs": [],
   "source": [
    "sply = act.copy()\n",
    "sply = (pd.merge(sply, pe_en[['TECHNOLOGY', 'primary_names','Color']] , on='TECHNOLOGY'))\n",
    "sply = sply.groupby(['YEAR','primary_names','Color'], as_index=False).sum()\n",
    "sply = sply[sply['VALUE'] > 0]\n",
    "base = alt.Chart(sply.dropna(),width=614,height=437)\n",
    "selection = alt.selection_multi(fields=['primary_names'],bind='legend')\n",
    "cmap = sply[['primary_names','Color']].drop_duplicates()\n",
    "grouped = base.mark_area().encode(\n",
    "                alt.X(\"YEAR:N\",axis=alt.Axis(labelFontSize=15,labelAngle=270,titleFontSize=20)),\n",
    "                alt.Y(\"sum(VALUE)\",title='Primary Energy in PJ',axis=alt.Axis(labelFontSize=15,labelAngle=0,titleFontSize=20)),\n",
    "                alt.Color('primary_names', scale=alt.Scale(domain=cmap['primary_names'].values.tolist(), range=cmap['Color'].values.tolist())),\n",
    "                opacity = alt.condition(selection, alt.value(1), alt.value(0.1)),\n",
    "                tooltip=['primary_names','YEAR','sum(VALUE)']\n",
    "            ).add_selection(selection).interactive()\n",
    "text = base.mark_text(dx=0,dy=-40, color='black').encode(\n",
    "    x=alt.X('YEAR:N', stack='zero'),\n",
    "    y=alt.Y('sum(VALUE)'),\n",
    "    text=alt.Text('sum(VALUE)', format='.2f')\n",
    ")\n",
    "\n",
    "# Each sector plot filtered by clicking the stacked plot\n",
    "one_group = grouped.mark_bar().encode(\n",
    "    alt.Y(\"sum(VALUE)\",title='Primary Energy in PJ',axis=alt.Axis(labelFontSize=15,labelAngle=0,titleFontSize=20)),\n",
    "    alt.Color('primary_names', scale=alt.Scale(domain=cmap['primary_names'].values.tolist(), range=cmap['Color'].values.tolist())),\n",
    "    tooltip=['primary_names','sum(VALUE)','YEAR'],\n",
    "    row='primary_names',\n",
    ").transform_filter( \n",
    "    selection\n",
    ").interactive()\n"
   ]
  },
  {
   "cell_type": "code",
   "execution_count": 98,
   "metadata": {},
   "outputs": [],
   "source": [
    "# (grouped)&one_group"
   ]
  },
  {
   "cell_type": "code",
   "execution_count": null,
   "metadata": {},
   "outputs": [],
   "source": []
  },
  {
   "cell_type": "code",
   "execution_count": 99,
   "metadata": {},
   "outputs": [],
   "source": [
    "# base.mark_line(dx=0,dy=-40, color='black').encode(\n",
    "#     x=alt.X('YEAR:N', stack='zero'),\n",
    "#     y=alt.Y('sum(VALUE)',title='Primary Energy in PJ'),\n",
    "#     tooltip=['sum(VALUE)','YEAR'],\n",
    "# )"
   ]
  },
  {
   "cell_type": "markdown",
   "metadata": {},
   "source": [
    "# Final Energy by Fuel and Sectors"
   ]
  },
  {
   "cell_type": "code",
   "execution_count": null,
   "metadata": {},
   "outputs": [],
   "source": []
  },
  {
   "cell_type": "code",
   "execution_count": 100,
   "metadata": {},
   "outputs": [],
   "source": [
    "trp = dem.loc[dem['TECHNOLOGY'].isin(np.array(sector_namesT['TECHNOLOGY']))]\n",
    "trp = rate_us_ts(trp)\n",
    "trp = (pd.merge(trp, sector_namesT[['TECHNOLOGY', 'Tech_name','Sector','Fuel','Color','Sector_Color']] , on='TECHNOLOGY'))\n",
    "oth = (pd.merge(act.copy(), sector_namesOTH[['TECHNOLOGY', 'Tech_name','Sector','Fuel','Color','Sector_Color']] , on='TECHNOLOGY'))\n",
    "\n",
    "final_energy_all = oth.append(trp, ignore_index=True)\n",
    "final_energy_fuel = final_energy_all.groupby(['YEAR','Fuel','Color'], as_index=False).sum()\n",
    "final_energy_sec = final_energy_all.groupby(['YEAR','Sector','Sector_Color'], as_index=False).sum()\n",
    "\n",
    "final_energy_fuel = final_energy_fuel[final_energy_fuel['VALUE'] > 0]\n",
    "final_energy_sec = final_energy_sec[final_energy_sec['VALUE'] > 0]\n",
    "\n",
    "fe_fuel = alt.Chart(final_energy_fuel.dropna(),width=614,height=437)\n",
    "fe_sec = alt.Chart(final_energy_sec.dropna(),width=614,height=437)\n",
    "\n",
    "selection = alt.selection_multi(fields=['Fuel'],bind='legend')\n",
    "cmap = final_energy_fuel[['Fuel','Color']].drop_duplicates()\n",
    "\n",
    "fe_by_fuel = fe_fuel.mark_area().encode(\n",
    "                alt.X(\"YEAR:N\",axis=alt.Axis(labelFontSize=15,labelAngle=270,titleFontSize=20)),\n",
    "                alt.Y(\"sum(VALUE)\",title='Final Energy in PJ',axis=alt.Axis(labelFontSize=15,labelAngle=0,titleFontSize=20)),\n",
    "                alt.Color('Fuel', scale=alt.Scale(domain=cmap['Fuel'].values.tolist(), range=cmap['Color'].values.tolist())),\n",
    "                opacity = alt.condition(selection, alt.value(1), alt.value(0.1)),\n",
    "                tooltip=['Fuel','YEAR','sum(VALUE)']\n",
    "            ).add_selection(selection).interactive()\n",
    "one_fuel = fe_by_fuel.mark_area().encode(\n",
    "    alt.Y(\"sum(VALUE)\",title='Final Energy in PJ',axis=alt.Axis(labelFontSize=15,labelAngle=0,titleFontSize=20)),\n",
    "    alt.Color('Fuel', scale=alt.Scale(domain=cmap['Fuel'].values.tolist(), range=cmap['Color'].values.tolist())),\n",
    "    tooltip=['Fuel','sum(VALUE)','YEAR'],\n",
    "    row='Fuel',\n",
    ").transform_filter( \n",
    "    selection\n",
    ").interactive()\n",
    "\n",
    "\n",
    "cmap = final_energy_sec[['Sector','Sector_Color']].drop_duplicates()\n",
    "fe_by_sec = fe_sec.mark_area().encode(\n",
    "                alt.X(\"YEAR:N\",axis=alt.Axis(labelFontSize=15,labelAngle=270,titleFontSize=20)),\n",
    "                alt.Y(\"sum(VALUE)\",title='Final Energy in PJ',axis=alt.Axis(labelFontSize=15,labelAngle=0,titleFontSize=20)),\n",
    "                alt.Color('Sector', scale=alt.Scale(domain=cmap['Sector'].values.tolist(), range=cmap['Sector_Color'].values.tolist())),\n",
    "                opacity = alt.condition(selection, alt.value(1), alt.value(0.1)),\n",
    "                tooltip=['Sector','YEAR','sum(VALUE)']\n",
    "            ).add_selection(selection).interactive()\n",
    "\n",
    "\n",
    "text = fe_fuel.mark_text(dx=0,dy=-40, color='black').encode(\n",
    "    x=alt.X('YEAR:N', stack='zero'),\n",
    "    y=alt.Y('sum(VALUE)'),\n",
    "    text=alt.Text('sum(VALUE)', format='.2f')\n",
    ")\n",
    "\n",
    "\n",
    "\n",
    "# Each sector plot filtered by clicking the stacked plot\n",
    "\n",
    "one_sec = fe_by_sec.mark_area().encode(\n",
    "    alt.Y(\"sum(VALUE)\",title='Final Energy in PJ',axis=alt.Axis(labelFontSize=15,labelAngle=0,titleFontSize=20)),\n",
    "    alt.Color('Sector', scale=alt.Scale(domain=cmap['Sector'].values.tolist(), range=cmap['Sector_Color'].values.tolist())),\n",
    "    tooltip=['Sector','sum(VALUE)','YEAR'],\n",
    "    row='Sector',\n",
    ").transform_filter( \n",
    "    selection\n",
    ").interactive()"
   ]
  },
  {
   "cell_type": "code",
   "execution_count": 101,
   "metadata": {},
   "outputs": [],
   "source": [
    "# fe_by_fuel&one_fuel\n",
    "# fe_by_sec&one_sec"
   ]
  },
  {
   "cell_type": "markdown",
   "metadata": {},
   "source": [
    "## Emissions"
   ]
  },
  {
   "cell_type": "code",
   "execution_count": null,
   "metadata": {},
   "outputs": [],
   "source": []
  },
  {
   "cell_type": "code",
   "execution_count": null,
   "metadata": {},
   "outputs": [],
   "source": []
  },
  {
   "cell_type": "code",
   "execution_count": 102,
   "metadata": {},
   "outputs": [],
   "source": [
    "#Emissions\n",
    "\n",
    "#annual emission by tech\n",
    "elec_emi = (pd.merge(aet.copy(), elec_en, on='TECHNOLOGY'))\n",
    "elec_emi['Sector'] = elec_emi['Tech_name']\n",
    "elec_emi.rename({'Color': 'Sector_Color'}, axis=1,inplace=True)\n",
    "fe_emi = (pd.merge(aet.copy(), fe_en, on='TECHNOLOGY'))\n",
    "fe_emi.drop(columns=['Color'],inplace=True)\n",
    "fe_emi[\"Sector\"] = [sector[0] for sector in fe_emi['Tech_name'].str.split('-')]\n",
    "all_emi = pd.concat([elec_emi[[\"Tech_name\",'Sector','YEAR','Sector_Color','VALUE']],fe_emi[[\"Tech_name\",'Sector','YEAR','Sector_Color','VALUE']]])"
   ]
  },
  {
   "cell_type": "code",
   "execution_count": 103,
   "metadata": {},
   "outputs": [],
   "source": [
    "emissions = alt.Chart(all_emi.dropna(),width=614,height=437)\n",
    "selection = alt.selection_multi(fields=['Sector'],bind='legend')\n",
    "cmap = all_emi[['Sector','Sector_Color']].drop_duplicates()\n",
    "tot_emi_by_year = emissions.mark_area().encode(\n",
    "                alt.X(\"YEAR:N\",axis=alt.Axis(labelFontSize=15,labelAngle=270,titleFontSize=20)),\n",
    "                alt.Y(\"sum(VALUE)\",title='Emissions in TTCO2e',axis=alt.Axis(labelFontSize=15,labelAngle=0,titleFontSize=20)),\n",
    "                alt.Color('Sector', scale=alt.Scale(domain=cmap['Sector'].values.tolist(), range=cmap['Sector_Color'].values.tolist())),\n",
    "                opacity = alt.condition(selection, alt.value(1), alt.value(0.1)),\n",
    "                tooltip=['YEAR','Sector','sum(VALUE)']\n",
    "            ).add_selection(selection).interactive()\n",
    "# Each sector plot filtered by clicking the stacked plot\n",
    "one_emi = tot_emi_by_year.mark_bar().encode(\n",
    "    alt.Y(\"sum(VALUE)\",title='Emissions in TTCO2e',axis=alt.Axis(labelFontSize=15,labelAngle=0,titleFontSize=20)),\n",
    "    alt.Color('Sector', scale=alt.Scale(domain=cmap['Sector'].values.tolist(), range=cmap['Sector_Color'].values.tolist())),\n",
    "    tooltip=['Tech_name','sum(VALUE)','YEAR'],\n",
    "    row='Sector',\n",
    ").transform_filter( \n",
    "    selection\n",
    ").interactive()"
   ]
  },
  {
   "cell_type": "code",
   "execution_count": 104,
   "metadata": {},
   "outputs": [],
   "source": [
    "# tot_emi_by_year&one_emi"
   ]
  },
  {
   "cell_type": "markdown",
   "metadata": {},
   "source": [
    "# COST"
   ]
  },
  {
   "cell_type": "markdown",
   "metadata": {},
   "source": [
    "## CAP INVESTMENT BY SECTOR"
   ]
  },
  {
   "cell_type": "code",
   "execution_count": 105,
   "metadata": {},
   "outputs": [],
   "source": [
    "trp_corr = pd.read_excel('Transport_correction.xlsx').set_index('Tech_name').to_dict()"
   ]
  },
  {
   "cell_type": "code",
   "execution_count": null,
   "metadata": {},
   "outputs": [],
   "source": []
  },
  {
   "cell_type": "code",
   "execution_count": 106,
   "metadata": {},
   "outputs": [],
   "source": [
    "elec_inv = (pd.merge(inv.copy(), elec_en, on='TECHNOLOGY'))\n",
    "elec_inv['Sector'] = elec_inv['Tech_name']\n",
    "elec_inv.rename({'Color': 'Sector_Color'}, axis=1,inplace=True)\n",
    "fe_inv = (pd.merge(inv.copy(), fe_en, on='TECHNOLOGY'))\n",
    "fe_inv.drop(columns=['Color'],inplace=True)\n",
    "fe_inv[\"Sector\"] = [sector[0] for sector in fe_inv['Tech_name'].str.split('-')]\n",
    "all_inv = pd.concat([elec_inv[[\"Tech_name\",'Sector','YEAR','Sector_Color','VALUE']],fe_inv[[\"Tech_name\",'Sector','YEAR','Sector_Color','VALUE']]])"
   ]
  },
  {
   "cell_type": "code",
   "execution_count": 107,
   "metadata": {},
   "outputs": [],
   "source": [
    "for key,value in trp_corr['km'].items():\n",
    "    all_inv.loc[all_inv['Tech_name'].str.contains(key+'-'), 'VALUE'] /= value\n"
   ]
  },
  {
   "cell_type": "code",
   "execution_count": null,
   "metadata": {},
   "outputs": [],
   "source": []
  },
  {
   "cell_type": "code",
   "execution_count": 108,
   "metadata": {},
   "outputs": [],
   "source": [
    "capinv = alt.Chart(all_inv.dropna(),width=614,height=437)\n",
    "selection = alt.selection_multi(fields=['Sector'],bind='legend')\n",
    "cmap = all_inv[['Sector','Sector_Color']].drop_duplicates()\n",
    "tot_inv_by_year = capinv.mark_area().encode(\n",
    "                alt.X(\"YEAR:N\",axis=alt.Axis(labelFontSize=15,labelAngle=270,titleFontSize=20)),\n",
    "                alt.Y(\"sum(VALUE)\",title='New Investments in INR Crore',axis=alt.Axis(labelFontSize=15,labelAngle=0,titleFontSize=20)),\n",
    "                alt.Color('Sector', scale=alt.Scale(domain=cmap['Sector'].values.tolist(), range=cmap['Sector_Color'].values.tolist())),\n",
    "                opacity = alt.condition(selection, alt.value(1), alt.value(0.1)),\n",
    "                tooltip=['YEAR','Sector','sum(VALUE)']\n",
    "            ).add_selection(selection).interactive()\n",
    "\n",
    "# Each sector plot filtered by clicking the stacked plot\n",
    "one_inv = tot_inv_by_year.mark_bar().encode(\n",
    "    alt.Y(\"sum(VALUE)\",title='New Investments in INR Crore',axis=alt.Axis(labelFontSize=15,labelAngle=0,titleFontSize=20)),\n",
    "    alt.X(\"Tech_name\",title='Technology',axis=alt.Axis(labelFontSize=15,labelAngle=270,titleFontSize=20)),\n",
    "    alt.Color('Sector', scale=alt.Scale(domain=cmap['Sector'].values.tolist(), range=cmap['Sector_Color'].values.tolist())),\n",
    "    tooltip=['Tech_name','sum(VALUE)','YEAR'],\n",
    "    row='Sector',\n",
    ").transform_filter( \n",
    "    selection\n",
    ").interactive()"
   ]
  },
  {
   "cell_type": "code",
   "execution_count": 109,
   "metadata": {},
   "outputs": [],
   "source": [
    "# tot_inv_by_year & one_inv"
   ]
  },
  {
   "cell_type": "code",
   "execution_count": null,
   "metadata": {},
   "outputs": [],
   "source": []
  },
  {
   "cell_type": "markdown",
   "metadata": {},
   "source": [
    "# Sector Mix"
   ]
  },
  {
   "cell_type": "markdown",
   "metadata": {},
   "source": [
    "# Electricity Generation"
   ]
  },
  {
   "cell_type": "code",
   "execution_count": 110,
   "metadata": {},
   "outputs": [],
   "source": [
    "#Production by tech electrcity\n",
    "\n",
    "p_tech = act.copy()\n",
    "#only for the electricity sector\n",
    "p_tech = p_tech.loc[p_tech['FUEL'].isin(np.array(elec_en['Electr']))]\n",
    "p_tech = (pd.merge(p_tech, elec_en[['TECHNOLOGY', 'Tech_name','Color']] , on='TECHNOLOGY'))\n",
    "p_tech = p_tech.groupby(['YEAR','Tech_name', 'TIMESLICE','Color'], as_index=False).sum() \n",
    "# p_tech.drop(p_tech.columns[4:], axis=1, inplace=True)\n",
    "p_tech = p_tech[[\"YEAR\",\"Tech_name\",\"TIMESLICE\",\"Color\",\"VALUE\"]]"
   ]
  },
  {
   "cell_type": "code",
   "execution_count": 111,
   "metadata": {},
   "outputs": [],
   "source": [
    "generation = alt.Chart(p_tech.dropna(),width=614,height=437)\n",
    "selection = alt.selection_multi(fields=['Tech_name'],bind='legend')\n",
    "cmap = p_tech[['Tech_name','Color']].drop_duplicates()\n",
    "generation_by_year = generation.mark_area().encode(\n",
    "                alt.X(\"YEAR:N\",axis=alt.Axis(labelFontSize=15,labelAngle=270,titleFontSize=20)),\n",
    "                alt.Y(\"sum(VALUE)\",title='Electricity Generation in PJ',axis=alt.Axis(labelFontSize=15,labelAngle=0,titleFontSize=20)),\n",
    "                alt.Color('Tech_name', scale=alt.Scale(domain=cmap['Tech_name'].values.tolist(), range=cmap['Color'].values.tolist())),\n",
    "                opacity = alt.condition(selection, alt.value(1), alt.value(0.1)),\n",
    "                tooltip=['YEAR','Tech_name','sum(VALUE)']\n",
    "            ).add_selection(selection).interactive()\n",
    "# Each sector plot filtered by clicking the stacked plot\n",
    "one_year = generation_by_year.mark_bar().encode(\n",
    "    alt.Y(\"sum(VALUE)\",title='Electricity Generation in PJ',axis=alt.Axis(labelFontSize=15,labelAngle=0,titleFontSize=20)),\n",
    "    alt.X(\"TIMESLICE:N\",title='Electricity Generation in PJ',axis=alt.Axis(labelFontSize=15,labelAngle=0,titleFontSize=20)),\n",
    "    alt.Color('Tech_name', scale=alt.Scale(domain=cmap['Tech_name'].values.tolist(), range=cmap['Color'].values.tolist())),\n",
    "    tooltip=['Tech_name','sum(VALUE)','YEAR'],\n",
    "    row='YEAR',\n",
    ").transform_filter( \n",
    "    selection\n",
    ").interactive()\n"
   ]
  },
  {
   "cell_type": "code",
   "execution_count": 112,
   "metadata": {},
   "outputs": [],
   "source": [
    "# generation_by_year&one_year"
   ]
  },
  {
   "cell_type": "markdown",
   "metadata": {},
   "source": [
    "## Total Capacity"
   ]
  },
  {
   "cell_type": "code",
   "execution_count": null,
   "metadata": {},
   "outputs": [],
   "source": []
  },
  {
   "cell_type": "code",
   "execution_count": 114,
   "metadata": {},
   "outputs": [],
   "source": [
    "all_cap =  tot_cap.copy()\n",
    "all_cap = all_cap.loc[all_cap['TECHNOLOGY'].isin(np.array(elec_en['TECHNOLOGY']))]\n",
    "all_cap = (pd.merge(all_cap, elec_en[['TECHNOLOGY', 'Tech_name','Color']] , on='TECHNOLOGY'))\n",
    "all_cap = all_cap.groupby(['YEAR','Tech_name','Color'], as_index=False).sum()\n",
    "all_cap.drop(all_cap[all_cap.Tech_name == 'IEX-Imports'].index, inplace=True)\n",
    "all_cap.drop(all_cap[all_cap.Tech_name == 'PPA(New/Renewed)'].index, inplace=True)\n",
    "all_cap = all_cap[[\"YEAR\",\"Tech_name\",\"Color\",\"VALUE\"]] "
   ]
  },
  {
   "cell_type": "code",
   "execution_count": 117,
   "metadata": {},
   "outputs": [],
   "source": [
    "\n",
    "totcap = alt.Chart(all_cap.dropna(),width=614,height=437)\n",
    "selection = alt.selection_multi(fields=['Tech_name'],bind='legend')\n",
    "cmap = p_tech[['Tech_name','Color']].drop_duplicates()\n",
    "\n",
    "tot_cap_by_year = totcap.mark_area().encode(\n",
    "                alt.X(\"YEAR:N\",axis=alt.Axis(labelFontSize=15,labelAngle=270,titleFontSize=20)),\n",
    "                alt.Y(\"sum(VALUE)\",title='Electricity Capacity in GW',axis=alt.Axis(labelFontSize=15,labelAngle=0,titleFontSize=20)),\n",
    "                alt.Color('Tech_name', scale=alt.Scale(domain=cmap['Tech_name'].values.tolist(), range=cmap['Color'].values.tolist())),\n",
    "                opacity = alt.condition(selection, alt.value(1), alt.value(0.1)),\n",
    "                tooltip=['YEAR','Tech_name','sum(VALUE)']\n",
    "            ).add_selection(selection).interactive()\n",
    "# Each sector plot filtered by clicking the stacked plot\n",
    "one_cap = tot_cap_by_year.mark_bar().encode(\n",
    "    alt.Y(\"sum(VALUE)\",title='Electricity Generation in PJ',axis=alt.Axis(labelFontSize=15,labelAngle=0,titleFontSize=20)),\n",
    "    alt.Color('Tech_name', scale=alt.Scale(domain=cmap['Tech_name'].values.tolist(), range=cmap['Color'].values.tolist())),\n",
    "    tooltip=['Tech_name','sum(VALUE)','YEAR'],\n",
    "    row='Tech_name',\n",
    ").transform_filter( \n",
    "    selection\n",
    ").interactive()"
   ]
  },
  {
   "cell_type": "code",
   "execution_count": 119,
   "metadata": {},
   "outputs": [],
   "source": [
    "\n",
    "# tot_cap_by_year&one_cap"
   ]
  },
  {
   "cell_type": "markdown",
   "metadata": {},
   "source": [
    "## New Capacity"
   ]
  },
  {
   "cell_type": "code",
   "execution_count": 126,
   "metadata": {},
   "outputs": [],
   "source": [
    "# New capacity\n",
    "\n",
    "ncap = new_cap.copy()\n",
    "ncap = ncap.loc[ncap['TECHNOLOGY'].isin(np.array(elec_en['TECHNOLOGY']))]\n",
    "ncap = (pd.merge(ncap, elec_en[['TECHNOLOGY', 'Tech_name',\"Color\"]] , on='TECHNOLOGY'))\n",
    "ncap = ncap.groupby(['YEAR','Tech_name',\"Color\"], as_index=False).sum()\n",
    "ncap.drop(ncap[ncap.Tech_name == 'IEX-Imports'].index, inplace=True)\n",
    "ncap.drop(ncap[ncap.Tech_name == 'PPA(New/Renewed)'].index, inplace=True)\n",
    "ncap = ncap[[\"YEAR\",\"Tech_name\",\"Color\",\"VALUE\"]]"
   ]
  },
  {
   "cell_type": "code",
   "execution_count": 130,
   "metadata": {},
   "outputs": [],
   "source": [
    "newcap = alt.Chart(ncap.dropna(),width=614,height=437)\n",
    "selection = alt.selection_multi(fields=['Tech_name'],bind='legend')\n",
    "cmap = p_tech[['Tech_name','Color']].drop_duplicates()\n",
    "\n",
    "new_cap_by_year = newcap.mark_area().encode(\n",
    "                alt.X(\"YEAR:N\",axis=alt.Axis(labelFontSize=15,labelAngle=270,titleFontSize=20)),\n",
    "                alt.Y(\"sum(VALUE)\",title='Electricity Capacity in GW',axis=alt.Axis(labelFontSize=15,labelAngle=0,titleFontSize=20)),\n",
    "                alt.Color('Tech_name', scale=alt.Scale(domain=cmap['Tech_name'].values.tolist(), range=cmap['Color'].values.tolist())),\n",
    "                opacity = alt.condition(selection, alt.value(1), alt.value(0.1)),\n",
    "                tooltip=['YEAR','Tech_name','sum(VALUE)']\n",
    "            ).add_selection(selection).interactive()\n",
    "# Each sector plot filtered by clicking the stacked plot\n",
    "one_cap = new_cap_by_year.mark_bar().encode(\n",
    "    alt.Y(\"sum(VALUE)\",title='Electricity Generation in PJ',axis=alt.Axis(labelFontSize=15,labelAngle=0,titleFontSize=20)),\n",
    "    alt.Color('Tech_name', scale=alt.Scale(domain=cmap['Tech_name'].values.tolist(), range=cmap['Color'].values.tolist())),\n",
    "    tooltip=['Tech_name','sum(VALUE)','YEAR'],\n",
    "    row='Tech_name',\n",
    ").transform_filter( \n",
    "    selection\n",
    ").interactive()"
   ]
  },
  {
   "cell_type": "code",
   "execution_count": 132,
   "metadata": {},
   "outputs": [],
   "source": [
    "# new_cap_by_year&one_cap"
   ]
  },
  {
   "cell_type": "code",
   "execution_count": null,
   "metadata": {},
   "outputs": [],
   "source": []
  },
  {
   "cell_type": "code",
   "execution_count": 134,
   "metadata": {},
   "outputs": [
    {
     "name": "stdout",
     "output_type": "stream",
     "text": [
      "Launching server at http://localhost:49900\n"
     ]
    },
    {
     "data": {
      "text/plain": [
       "<bokeh.server.server.Server at 0x19248896bc8>"
      ]
     },
     "execution_count": 134,
     "metadata": {},
     "output_type": "execute_result"
    }
   ],
   "source": [
    "import panel as pn\n",
    "sectors = final_energy_all.Sector.drop_duplicates().tolist()\n",
    "def fe_chart(sector):\n",
    "    fe_dem = final_energy_all.loc[final_energy_all.Sector==sector,['YEAR','Tech_name',\"Color\",'VALUE']]\n",
    "    cmap = fe_dem[['Tech_name','Color']].drop_duplicates()\n",
    "    sec_chart = alt.Chart(fe_dem.dropna(),width=614,height=437)\n",
    "    chart = sec_chart.mark_area().encode(\n",
    "                alt.X(\"YEAR:N\",axis=alt.Axis(labelFontSize=15,labelAngle=270,titleFontSize=20)),\n",
    "                alt.Y(\"sum(VALUE)\",title='Electricity Capacity in GW',axis=alt.Axis(labelFontSize=15,labelAngle=0,titleFontSize=20)),\n",
    "                alt.Color('Tech_name', scale=alt.Scale(domain=cmap['Tech_name'].values.tolist(), range=cmap['Color'].values.tolist())),\n",
    "                tooltip=['YEAR','Tech_name','sum(VALUE)']\n",
    "            )\n",
    "    return pn.pane.Vega(chart)\n",
    "     \n",
    "pn.interact(fe_chart,sector=sectors).show()"
   ]
  },
  {
   "cell_type": "code",
   "execution_count": null,
   "metadata": {},
   "outputs": [],
   "source": [
    "sectors"
   ]
  },
  {
   "cell_type": "code",
   "execution_count": null,
   "metadata": {},
   "outputs": [],
   "source": []
  },
  {
   "cell_type": "code",
   "execution_count": null,
   "metadata": {},
   "outputs": [],
   "source": []
  }
 ],
 "metadata": {
  "interpreter": {
   "hash": "2270682fbfaa6ca5852241b7063f08d1e40231ac19ce9424625faeb16f81c7cb"
  },
  "kernelspec": {
   "display_name": "Python 3",
   "language": "python",
   "name": "python3"
  },
  "language_info": {
   "codemirror_mode": {
    "name": "ipython",
    "version": 3
   },
   "file_extension": ".py",
   "mimetype": "text/x-python",
   "name": "python",
   "nbconvert_exporter": "python",
   "pygments_lexer": "ipython3",
   "version": "3.7.10"
  }
 },
 "nbformat": 4,
 "nbformat_minor": 2
}
