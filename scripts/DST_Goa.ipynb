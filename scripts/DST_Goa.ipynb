{
 "cells": [
  {
   "cell_type": "code",
   "execution_count": 82,
   "metadata": {},
   "outputs": [],
   "source": [
    "import pandas as pd\n",
    "import numpy as np\n",
    "import plotly.express as px\n",
    "import os\n",
    "import altair as alt\n",
    "import panel as pn\n",
    "from function import *"
   ]
  },
  {
   "cell_type": "markdown",
   "metadata": {},
   "source": [
    "# **PlotResults**"
   ]
  },
  {
   "cell_type": "markdown",
   "metadata": {},
   "source": [
    "## Read the CSV"
   ]
  },
  {
   "cell_type": "code",
   "execution_count": 2,
   "metadata": {},
   "outputs": [],
   "source": [
    "# name of the CSV\n",
    "n_file = 'GOA_RE_complete_results.csv'      # file name\n",
    "location = 'Output_Data'               # file address \n",
    "n_file_r = pd.read_csv(location +'/' + n_file, low_memory=False)"
   ]
  },
  {
   "cell_type": "code",
   "execution_count": null,
   "metadata": {},
   "outputs": [],
   "source": []
  },
  {
   "cell_type": "markdown",
   "metadata": {},
   "source": [
    "## Name of techs"
   ]
  },
  {
   "cell_type": "markdown",
   "metadata": {},
   "source": [
    "Read the excel file that contains the name of technologies and the alias or easy names"
   ]
  },
  {
   "cell_type": "code",
   "execution_count": 3,
   "metadata": {},
   "outputs": [],
   "source": [
    "#names of tech  The file Tech_names contains a dictionary with the techs and easy names for the Goa model\n",
    "\n",
    "#names of tech elecetrcity\n",
    "elec_en = pd.read_excel('Tech_names_Goa.xlsx', sheet_name='Power', usecols='A,B,D')\n",
    "#names of other sectors\n",
    "fe_en = pd.read_excel('Tech_names_Goa.xlsx', sheet_name='sectoral_mix', usecols='A,D')\n",
    "#tn names of all tech joined for emissions\n",
    "emi_en = pd.concat([elec_en,fe_en], ignore_index=True)\n",
    "# alias for primary names\n",
    "pe_en = pd.read_excel('Tech_names_Goa.xlsx', sheet_name='primary_e', usecols='A,B')"
   ]
  },
  {
   "cell_type": "code",
   "execution_count": 4,
   "metadata": {},
   "outputs": [],
   "source": [
    "#sectorial mix\n",
    "sector_names = pd.read_excel('Tech_names_Goa.xlsx', usecols='A, B,C,D', sheet_name='sectoral_mix')\n",
    "\n",
    "sector_namesT = sector_names[sector_names['Sector'].isin(['Public','Private','Freight'])] # to use in rate of use by tech for the transport\n",
    "sector_namesOTH = sector_names[~sector_names['Sector'].isin(['Public','Private','Freight'])]"
   ]
  },
  {
   "cell_type": "code",
   "execution_count": null,
   "metadata": {},
   "outputs": [],
   "source": []
  },
  {
   "cell_type": "markdown",
   "metadata": {},
   "source": [
    "## Reading csv file and segregating"
   ]
  },
  {
   "cell_type": "code",
   "execution_count": 5,
   "metadata": {},
   "outputs": [],
   "source": [
    "act = n_file_r.loc[n_file_r.NAME=='ProdByTech']\n",
    "pe = n_file_r.loc[n_file_r.NAME=='ProdAnn']\n",
    "new_cap = n_file_r.loc[n_file_r.NAME=='NewCapacity']\n",
    "tot_cap = n_file_r.loc[n_file_r.NAME=='TotCapacityAnn']\n",
    "dem = n_file_r.loc[n_file_r.NAME=='RateOfUseByTech']\n",
    "aet = n_file_r.loc[n_file_r.NAME=='AnnTechEmission']\n",
    "inv = n_file_r.loc[n_file_r.NAME=='DiscCapitalInvestment']"
   ]
  },
  {
   "cell_type": "markdown",
   "metadata": {},
   "source": [
    "# Primary Energy"
   ]
  },
  {
   "cell_type": "code",
   "execution_count": 46,
   "metadata": {},
   "outputs": [],
   "source": [
    "sply = act.copy()\n",
    "sply = (pd.merge(sply, pe_en[['TECHNOLOGY', 'primary_names']] , on='TECHNOLOGY'))\n",
    "sply = sply.groupby(['YEAR','primary_names'], as_index=False).sum()\n",
    "sply = sply[sply['VALUE'] > 0]\n",
    "base = alt.Chart(sply.dropna(),width=614,height=437)\n",
    "selection = alt.selection_multi(fields=['primary_names'],bind='legend')\n",
    "\n",
    "grouped = base.mark_area().encode(\n",
    "                alt.X(\"YEAR:N\",axis=alt.Axis(labelFontSize=15,labelAngle=270,titleFontSize=20)),\n",
    "                alt.Y(\"sum(VALUE)\",title='Primary Energy in PJ',axis=alt.Axis(labelFontSize=15,labelAngle=0,titleFontSize=20)),\n",
    "                alt.Color('primary_names'),\n",
    "                opacity = alt.condition(selection, alt.value(1), alt.value(0.1)),\n",
    "                tooltip=['primary_names','YEAR','sum(VALUE)']\n",
    "            ).add_selection(selection).interactive()\n",
    "text = base.mark_text(dx=0,dy=-40, color='black').encode(\n",
    "    x=alt.X('YEAR:N', stack='zero'),\n",
    "    y=alt.Y('sum(VALUE)'),\n",
    "    text=alt.Text('sum(VALUE)', format='.2f')\n",
    ")\n",
    "\n",
    "# Each sector plot filtered by clicking the stacked plot\n",
    "one_group = grouped.mark_bar().encode(\n",
    "    alt.Y(\"sum(VALUE)\",title='Primary Energy in PJ',axis=alt.Axis(labelFontSize=15,labelAngle=0,titleFontSize=20)),\n",
    "    alt.Color('primary_names'), \n",
    "    tooltip=['primary_names','sum(VALUE)','YEAR'],\n",
    "    row='primary_names',\n",
    ").transform_filter( \n",
    "    selection\n",
    ").interactive()\n"
   ]
  },
  {
   "cell_type": "code",
   "execution_count": 48,
   "metadata": {},
   "outputs": [],
   "source": [
    "# (grouped)&one_group"
   ]
  },
  {
   "cell_type": "code",
   "execution_count": null,
   "metadata": {},
   "outputs": [],
   "source": []
  },
  {
   "cell_type": "code",
   "execution_count": 8,
   "metadata": {},
   "outputs": [],
   "source": [
    "# base.mark_line(dx=0,dy=-40, color='black').encode(\n",
    "#     x=alt.X('YEAR:N', stack='zero'),\n",
    "#     y=alt.Y('sum(VALUE)',title='Primary Energy in PJ'),\n",
    "#     tooltip=['sum(VALUE)','YEAR'],\n",
    "# )"
   ]
  },
  {
   "cell_type": "markdown",
   "metadata": {},
   "source": [
    "# Final Energy by Fuel and Sectors"
   ]
  },
  {
   "cell_type": "code",
   "execution_count": 9,
   "metadata": {},
   "outputs": [],
   "source": [
    "trp = (pd.merge(dem.copy(), sector_namesT[['TECHNOLOGY', 'Tech_name','Sector','Fuel']] , on='TECHNOLOGY'))\n",
    "trp = trp.groupby(['YEAR','Tech_name','Sector','Fuel'], as_index=False).mean()\n",
    "\n",
    "oth = (pd.merge(act.copy(), sector_namesOTH[['TECHNOLOGY', 'Tech_name','Sector','Fuel']] , on='TECHNOLOGY'))\n",
    "\n",
    "final_energy_all = pd.concat([trp,oth])\n",
    "final_energy_fuel = final_energy_all.groupby(['YEAR','Fuel'], as_index=False).sum()\n",
    "final_energy_sec = final_energy_all.groupby(['YEAR','Sector'], as_index=False).sum()\n",
    "\n",
    "final_energy_fuel = final_energy_fuel[final_energy_fuel['VALUE'] > 0]\n",
    "final_energy_sec = final_energy_sec[final_energy_sec['VALUE'] > 0]\n",
    "\n",
    "fe_fuel = alt.Chart(final_energy_fuel.dropna(),width=1228,height=437)\n",
    "fe_sec = alt.Chart(final_energy_sec.dropna(),width=1228,height=437)\n",
    "\n",
    "selection = alt.selection_multi(fields=['Fuel'],bind='legend')\n",
    "\n",
    "fe_by_fuel = fe_fuel.mark_area().encode(\n",
    "                alt.X(\"YEAR:N\",axis=alt.Axis(labelFontSize=15,labelAngle=270,titleFontSize=20)),\n",
    "                alt.Y(\"sum(VALUE)\",title='Final Energy in PJ',axis=alt.Axis(labelFontSize=15,labelAngle=0,titleFontSize=20)),\n",
    "                alt.Color('Fuel'),\n",
    "                opacity = alt.condition(selection, alt.value(1), alt.value(0.1)),\n",
    "                tooltip=['Fuel','YEAR','sum(VALUE)']\n",
    "            ).add_selection(selection).interactive()\n",
    "\n",
    "fe_by_sec = fe_sec.mark_area().encode(\n",
    "                alt.X(\"YEAR:N\",axis=alt.Axis(labelFontSize=15,labelAngle=270,titleFontSize=20)),\n",
    "                alt.Y(\"sum(VALUE)\",title='Final Energy in PJ',axis=alt.Axis(labelFontSize=15,labelAngle=0,titleFontSize=20)),\n",
    "                alt.Color('Sector'),\n",
    "                opacity = alt.condition(selection, alt.value(1), alt.value(0.1)),\n",
    "                tooltip=['Sector','YEAR','sum(VALUE)']\n",
    "            ).add_selection(selection).interactive()\n",
    "\n",
    "\n",
    "text = fe_fuel.mark_text(dx=0,dy=-40, color='black').encode(\n",
    "    x=alt.X('YEAR:N', stack='zero'),\n",
    "    y=alt.Y('sum(VALUE)'),\n",
    "    text=alt.Text('sum(VALUE)', format='.2f')\n",
    ")\n",
    "\n",
    "\n",
    "\n",
    "# Each sector plot filtered by clicking the stacked plot\n",
    "one_fuel = fe_by_fuel.mark_area().encode(\n",
    "    alt.Y(\"sum(VALUE)\",title='Final Energy in PJ',axis=alt.Axis(labelFontSize=15,labelAngle=0,titleFontSize=20)),\n",
    "    alt.Color('Fuel'), \n",
    "    tooltip=['Fuel','sum(VALUE)','YEAR'],\n",
    "    row='Fuel',\n",
    ").transform_filter( \n",
    "    selection\n",
    ").interactive()\n",
    "\n",
    "one_sec = fe_by_sec.mark_area().encode(\n",
    "    alt.Y(\"sum(VALUE)\",title='Final Energy in PJ',axis=alt.Axis(labelFontSize=15,labelAngle=0,titleFontSize=20)),\n",
    "    alt.Color('Sector'), \n",
    "    tooltip=['Sector','sum(VALUE)','YEAR'],\n",
    "    row='Sector',\n",
    ").transform_filter( \n",
    "    selection\n",
    ").interactive()\n",
    "\n"
   ]
  },
  {
   "cell_type": "code",
   "execution_count": 10,
   "metadata": {},
   "outputs": [],
   "source": [
    "# fe_by_fuel&one_fuel\n",
    "# fe_by_sec&one_sec"
   ]
  },
  {
   "cell_type": "markdown",
   "metadata": {},
   "source": [
    "## Emissions"
   ]
  },
  {
   "cell_type": "code",
   "execution_count": 23,
   "metadata": {},
   "outputs": [],
   "source": [
    "#Emissions\n",
    "\n",
    "#annual emission by tech\n",
    "aet = (pd.merge(aet, emi_en, on='TECHNOLOGY'))\n",
    "aet = aet.groupby(['YEAR','Tech_name'], as_index=False).sum()\n",
    "aet = aet[aet['VALUE'] > 0]\n",
    "\n",
    "#remove unused categories\n",
    "aet.drop(aet.columns[3:], axis=1, inplace=True)\n"
   ]
  },
  {
   "cell_type": "code",
   "execution_count": 24,
   "metadata": {},
   "outputs": [],
   "source": [
    "emissions = alt.Chart(aet.dropna(),width=1228,height=437)\n",
    "selection = alt.selection_multi(fields=['Tech_name'],bind='legend')\n",
    "tot_emi_by_year = emissions.mark_area().encode(\n",
    "                alt.X(\"YEAR:N\",axis=alt.Axis(labelFontSize=15,labelAngle=270,titleFontSize=20)),\n",
    "                alt.Y(\"sum(VALUE)\",title='Emissions in TTCO2e',axis=alt.Axis(labelFontSize=15,labelAngle=0,titleFontSize=20)),\n",
    "                alt.Color('Tech_name'),\n",
    "                opacity = alt.condition(selection, alt.value(1), alt.value(0.1)),\n",
    "                tooltip=['YEAR','Tech_name','sum(VALUE)']\n",
    "            ).add_selection(selection).interactive()\n",
    "# Each sector plot filtered by clicking the stacked plot\n",
    "one_emi = tot_emi_by_year.mark_bar().encode(\n",
    "    alt.Y(\"sum(VALUE)\",title='Emissions in TTCO2e',axis=alt.Axis(labelFontSize=15,labelAngle=0,titleFontSize=20)),\n",
    "    alt.Color('Tech_name'), \n",
    "    tooltip=['Tech_name','sum(VALUE)','YEAR'],\n",
    "    row='Tech_name',\n",
    ").transform_filter( \n",
    "    selection\n",
    ").interactive()"
   ]
  },
  {
   "cell_type": "code",
   "execution_count": 25,
   "metadata": {},
   "outputs": [],
   "source": [
    "# tot_emi_by_year&one_emi"
   ]
  },
  {
   "cell_type": "markdown",
   "metadata": {},
   "source": [
    "# COST"
   ]
  },
  {
   "cell_type": "markdown",
   "metadata": {},
   "source": [
    "## CAP INVESTMENT BY SECTOR"
   ]
  },
  {
   "cell_type": "code",
   "execution_count": 26,
   "metadata": {},
   "outputs": [],
   "source": [
    "trp_corr = pd.read_excel('Transport_correction.xlsx').set_index('Tech_name').to_dict()"
   ]
  },
  {
   "cell_type": "code",
   "execution_count": null,
   "metadata": {},
   "outputs": [],
   "source": []
  },
  {
   "cell_type": "code",
   "execution_count": 27,
   "metadata": {},
   "outputs": [],
   "source": [
    "new_inv = inv.copy()\n",
    "new_inv = (pd.merge(new_inv, emi_en, on='TECHNOLOGY'))\n",
    "new_inv.drop(new_inv.iloc[:, 2:13], axis=1, inplace=True)\n",
    "for key,value in trp_corr['km'].items():\n",
    "    new_inv.loc[new_inv['Tech_name'].str.contains(key+'-'), 'VALUE'] /= value\n",
    "new_inv.drop(new_inv.columns[-1], axis=1, inplace=True)\n",
    "new_inv[\"Sector\"] = [sector[0] for sector in new_inv['Tech_name'].str.split('-')]\n"
   ]
  },
  {
   "cell_type": "code",
   "execution_count": 28,
   "metadata": {},
   "outputs": [],
   "source": [
    "capinv = alt.Chart(new_inv.dropna(),width=1228,height=437)\n",
    "selection = alt.selection_multi(fields=['Sector'],bind='legend')\n",
    "tot_inv_by_year = capinv.mark_area().encode(\n",
    "                alt.X(\"YEAR:N\",axis=alt.Axis(labelFontSize=15,labelAngle=270,titleFontSize=20)),\n",
    "                alt.Y(\"sum(VALUE)\",title='New Investments in INR Crore',axis=alt.Axis(labelFontSize=15,labelAngle=0,titleFontSize=20)),\n",
    "                alt.Color('Sector'),\n",
    "                opacity = alt.condition(selection, alt.value(1), alt.value(0.1)),\n",
    "                tooltip=['YEAR','Sector','sum(VALUE)']\n",
    "            ).add_selection(selection).interactive()\n",
    "\n",
    "# Each sector plot filtered by clicking the stacked plot\n",
    "one_inv = tot_inv_by_year.mark_bar().encode(\n",
    "    alt.Y(\"sum(VALUE)\",title='New Investments in INR Crore',axis=alt.Axis(labelFontSize=15,labelAngle=0,titleFontSize=20)),\n",
    "    alt.X(\"Tech_name\",title='Technology',axis=alt.Axis(labelFontSize=15,labelAngle=270,titleFontSize=20)),\n",
    "    alt.Color('Sector'), \n",
    "    tooltip=['Tech_name','sum(VALUE)','YEAR'],\n",
    "    row='Sector',\n",
    ").transform_filter( \n",
    "    selection\n",
    ").interactive()"
   ]
  },
  {
   "cell_type": "code",
   "execution_count": 29,
   "metadata": {},
   "outputs": [],
   "source": [
    "# tot_inv_by_year & one_inv"
   ]
  },
  {
   "cell_type": "code",
   "execution_count": null,
   "metadata": {},
   "outputs": [],
   "source": []
  },
  {
   "cell_type": "markdown",
   "metadata": {},
   "source": [
    "# Sector Mix"
   ]
  },
  {
   "cell_type": "markdown",
   "metadata": {},
   "source": [
    "# Electricity Generation"
   ]
  },
  {
   "cell_type": "code",
   "execution_count": 11,
   "metadata": {},
   "outputs": [],
   "source": [
    "#Production by tech electrcity\n",
    "\n",
    "p_tech = act.copy()\n",
    "#only for the electricity sector\n",
    "p_tech = p_tech.loc[p_tech['FUEL'].isin(np.array(elec_en['Electr']))]\n",
    "p_tech = (pd.merge(p_tech, elec_en[['TECHNOLOGY', 'Tech_name']] , on='TECHNOLOGY'))\n",
    "p_tech = p_tech.groupby(['YEAR','Tech_name', 'TIMESLICE'], as_index=False).sum() \n",
    "p_tech.drop(p_tech.columns[4:], axis=1, inplace=True)\n"
   ]
  },
  {
   "cell_type": "code",
   "execution_count": 12,
   "metadata": {},
   "outputs": [],
   "source": [
    "generation = alt.Chart(p_tech.dropna(),width=1228,height=437)\n",
    "selection = alt.selection_multi(fields=['Tech_name'],bind='legend')\n",
    "generation_by_year = generation.mark_area().encode(\n",
    "                alt.X(\"YEAR:N\",axis=alt.Axis(labelFontSize=15,labelAngle=270,titleFontSize=20)),\n",
    "                alt.Y(\"sum(VALUE)\",title='Electricity Generation in PJ',axis=alt.Axis(labelFontSize=15,labelAngle=0,titleFontSize=20)),\n",
    "                alt.Color('Tech_name'),\n",
    "                opacity = alt.condition(selection, alt.value(1), alt.value(0.1)),\n",
    "                tooltip=['YEAR','Tech_name','sum(VALUE)']\n",
    "            ).add_selection(selection).interactive()\n",
    "# Each sector plot filtered by clicking the stacked plot\n",
    "one_year = generation_by_year.mark_bar().encode(\n",
    "    alt.Y(\"sum(VALUE)\",title='Electricity Generation in PJ',axis=alt.Axis(labelFontSize=15,labelAngle=0,titleFontSize=20)),\n",
    "    alt.X(\"TIMESLICE:N\",title='Electricity Generation in PJ',axis=alt.Axis(labelFontSize=15,labelAngle=0,titleFontSize=20)),\n",
    "    alt.Color('Tech_name'), \n",
    "    tooltip=['Tech_name','sum(VALUE)','YEAR'],\n",
    "    row='YEAR',\n",
    ").transform_filter( \n",
    "    selection\n",
    ").interactive()\n"
   ]
  },
  {
   "cell_type": "code",
   "execution_count": 13,
   "metadata": {},
   "outputs": [],
   "source": [
    "# generation_by_year&one_year"
   ]
  },
  {
   "cell_type": "markdown",
   "metadata": {},
   "source": [
    "## Total Capacity"
   ]
  },
  {
   "cell_type": "code",
   "execution_count": 20,
   "metadata": {},
   "outputs": [],
   "source": [
    "\n",
    "tot_cap = tot_cap.loc[tot_cap['TECHNOLOGY'].isin(np.array(elec_en['TECHNOLOGY']))]\n",
    "tot_cap = (pd.merge(tot_cap, elec_en[['TECHNOLOGY', 'Tech_name']] , on='TECHNOLOGY'))\n",
    "tot_cap = tot_cap.groupby(['YEAR','Tech_name'], as_index=False).sum()\n",
    "tot_cap.drop(tot_cap[tot_cap.Tech_name == 'IEX-Imports'].index, inplace=True)\n",
    "tot_cap.drop(tot_cap[tot_cap.Tech_name == 'RE-Imports'].index, inplace=True)\n",
    "tot_cap.drop(tot_cap.columns[3:], axis=1, inplace=True)\n"
   ]
  },
  {
   "cell_type": "code",
   "execution_count": 21,
   "metadata": {},
   "outputs": [],
   "source": [
    "\n",
    "totcap = alt.Chart(tot_cap.dropna(),width=1228,height=437)\n",
    "selection = alt.selection_multi(fields=['Tech_name'],bind='legend')\n",
    "tot_cap_by_year = totcap.mark_area().encode(\n",
    "                alt.X(\"YEAR:N\",axis=alt.Axis(labelFontSize=15,labelAngle=270,titleFontSize=20)),\n",
    "                alt.Y(\"sum(VALUE)\",title='Electricity Capacity in GW',axis=alt.Axis(labelFontSize=15,labelAngle=0,titleFontSize=20)),\n",
    "                alt.Color('Tech_name'),\n",
    "                opacity = alt.condition(selection, alt.value(1), alt.value(0.1)),\n",
    "                tooltip=['YEAR','Tech_name','sum(VALUE)']\n",
    "            ).add_selection(selection).interactive()\n",
    "# Each sector plot filtered by clicking the stacked plot\n",
    "one_cap = tot_cap_by_year.mark_bar().encode(\n",
    "    alt.Y(\"sum(VALUE)\",title='Electricity Generation in PJ',axis=alt.Axis(labelFontSize=15,labelAngle=0,titleFontSize=20)),\n",
    "    alt.Color('Tech_name'), \n",
    "    tooltip=['Tech_name','sum(VALUE)','YEAR'],\n",
    "    row='Tech_name',\n",
    ").transform_filter( \n",
    "    selection\n",
    ").interactive()"
   ]
  },
  {
   "cell_type": "code",
   "execution_count": 22,
   "metadata": {},
   "outputs": [],
   "source": [
    "# tot_cap_by_year&one_cap"
   ]
  },
  {
   "cell_type": "markdown",
   "metadata": {},
   "source": [
    "## New Capacity"
   ]
  },
  {
   "cell_type": "code",
   "execution_count": 14,
   "metadata": {},
   "outputs": [],
   "source": [
    "# New capacity\n",
    "\n",
    "ncap = new_cap.copy()\n",
    "ncap = ncap.loc[ncap['TECHNOLOGY'].isin(np.array(elec_en['TECHNOLOGY']))]\n",
    "ncap = (pd.merge(ncap, elec_en[['TECHNOLOGY', 'Tech_name']] , on='TECHNOLOGY'))\n",
    "ncap = ncap.groupby(['YEAR','Tech_name'], as_index=False).sum()\n",
    "ncap.drop(ncap[ncap.Tech_name == 'IEX-Imports'].index, inplace=True)\n",
    "ncap.drop(ncap[ncap.Tech_name == 'RE-Imports'].index, inplace=True)\n",
    "ncap.drop(ncap.columns[3:], axis=1, inplace=True)\n",
    "# acc_ncap.head(5)"
   ]
  },
  {
   "cell_type": "code",
   "execution_count": 15,
   "metadata": {},
   "outputs": [],
   "source": [
    "newcap = alt.Chart(ncap.dropna(),width=1228,height=437)\n",
    "selection = alt.selection_multi(fields=['Tech_name'],bind='legend')\n",
    "new_cap_by_year = newcap.mark_area().encode(\n",
    "                alt.X(\"YEAR:N\",axis=alt.Axis(labelFontSize=15,labelAngle=270,titleFontSize=20)),\n",
    "                alt.Y(\"sum(VALUE)\",title='Electricity Capacity in GW',axis=alt.Axis(labelFontSize=15,labelAngle=0,titleFontSize=20)),\n",
    "                alt.Color('Tech_name'),\n",
    "                opacity = alt.condition(selection, alt.value(1), alt.value(0.1)),\n",
    "                tooltip=['YEAR','Tech_name','sum(VALUE)']\n",
    "            ).add_selection(selection).interactive()\n",
    "# Each sector plot filtered by clicking the stacked plot\n",
    "one_cap = new_cap_by_year.mark_bar().encode(\n",
    "    alt.Y(\"sum(VALUE)\",title='Electricity Generation in PJ',axis=alt.Axis(labelFontSize=15,labelAngle=0,titleFontSize=20)),\n",
    "    alt.Color('Tech_name'), \n",
    "    tooltip=['Tech_name','sum(VALUE)','YEAR'],\n",
    "    row='Tech_name',\n",
    ").transform_filter( \n",
    "    selection\n",
    ").interactive()"
   ]
  },
  {
   "cell_type": "code",
   "execution_count": 16,
   "metadata": {},
   "outputs": [],
   "source": [
    "# new_cap_by_year&one_cap"
   ]
  },
  {
   "cell_type": "code",
   "execution_count": 60,
   "metadata": {},
   "outputs": [
    {
     "data": {
      "text/html": [
       "\n",
       "<div id=\"altair-viz-213cebd04d19485bb8ba7c735e432e28\"></div>\n",
       "<script type=\"text/javascript\">\n",
       "  (function(spec, embedOpt){\n",
       "    let outputDiv = document.currentScript.previousElementSibling;\n",
       "    if (outputDiv.id !== \"altair-viz-213cebd04d19485bb8ba7c735e432e28\") {\n",
       "      outputDiv = document.getElementById(\"altair-viz-213cebd04d19485bb8ba7c735e432e28\");\n",
       "    }\n",
       "    const paths = {\n",
       "      \"vega\": \"https://cdn.jsdelivr.net/npm//vega@5?noext\",\n",
       "      \"vega-lib\": \"https://cdn.jsdelivr.net/npm//vega-lib?noext\",\n",
       "      \"vega-lite\": \"https://cdn.jsdelivr.net/npm//vega-lite@4.8.1?noext\",\n",
       "      \"vega-embed\": \"https://cdn.jsdelivr.net/npm//vega-embed@6?noext\",\n",
       "    };\n",
       "\n",
       "    function loadScript(lib) {\n",
       "      return new Promise(function(resolve, reject) {\n",
       "        var s = document.createElement('script');\n",
       "        s.src = paths[lib];\n",
       "        s.async = true;\n",
       "        s.onload = () => resolve(paths[lib]);\n",
       "        s.onerror = () => reject(`Error loading script: ${paths[lib]}`);\n",
       "        document.getElementsByTagName(\"head\")[0].appendChild(s);\n",
       "      });\n",
       "    }\n",
       "\n",
       "    function showError(err) {\n",
       "      outputDiv.innerHTML = `<div class=\"error\" style=\"color:red;\">${err}</div>`;\n",
       "      throw err;\n",
       "    }\n",
       "\n",
       "    function displayChart(vegaEmbed) {\n",
       "      vegaEmbed(outputDiv, spec, embedOpt)\n",
       "        .catch(err => showError(`Javascript Error: ${err.message}<br>This usually means there's a typo in your chart specification. See the javascript console for the full traceback.`));\n",
       "    }\n",
       "\n",
       "    if(typeof define === \"function\" && define.amd) {\n",
       "      requirejs.config({paths});\n",
       "      require([\"vega-embed\"], displayChart, err => showError(`Error loading script: ${err.message}`));\n",
       "    } else if (typeof vegaEmbed === \"function\") {\n",
       "      displayChart(vegaEmbed);\n",
       "    } else {\n",
       "      loadScript(\"vega\")\n",
       "        .then(() => loadScript(\"vega-lite\"))\n",
       "        .then(() => loadScript(\"vega-embed\"))\n",
       "        .catch(showError)\n",
       "        .then(() => displayChart(vegaEmbed));\n",
       "    }\n",
       "  })({\"config\": {\"view\": {\"continuousWidth\": 400, \"continuousHeight\": 300}}, \"data\": {\"name\": \"data-a3ed7b375d90cc0e0e3d96c5ea1cc4a7\"}, \"mark\": \"area\", \"encoding\": {\"color\": {\"type\": \"nominal\", \"field\": \"Tech_name\"}, \"opacity\": {\"condition\": {\"value\": 1, \"selection\": \"selector056\"}, \"value\": 0.1}, \"tooltip\": [{\"type\": \"quantitative\", \"field\": \"YEAR\"}, {\"type\": \"nominal\", \"field\": \"Tech_name\"}, {\"type\": \"quantitative\", \"aggregate\": \"sum\", \"field\": \"VALUE\"}], \"x\": {\"type\": \"nominal\", \"axis\": {\"labelAngle\": 270, \"labelFontSize\": 15, \"titleFontSize\": 20}, \"field\": \"YEAR\"}, \"y\": {\"type\": \"quantitative\", \"aggregate\": \"sum\", \"axis\": {\"labelAngle\": 0, \"labelFontSize\": 15, \"titleFontSize\": 20}, \"field\": \"VALUE\", \"title\": \"Electricity Capacity in GW\"}}, \"height\": 437, \"selection\": {\"selector056\": {\"type\": \"multi\", \"fields\": [\"Tech_name\"], \"bind\": \"legend\"}, \"selector057\": {\"type\": \"interval\", \"bind\": \"scales\", \"encodings\": [\"x\", \"y\"]}}, \"width\": 614, \"$schema\": \"https://vega.github.io/schema/vega-lite/v4.8.1.json\", \"datasets\": {\"data-a3ed7b375d90cc0e0e3d96c5ea1cc4a7\": [{\"YEAR\": 2019.0, \"Tech_name\": \"FTR-AIR-AIR\", \"VALUE\": 4.9268448}, {\"YEAR\": 2019.0, \"Tech_name\": \"FTR-HCV-DIESEL\", \"VALUE\": 4.460883999996292}, {\"YEAR\": 2019.0, \"Tech_name\": \"FTR-HCV-ELECTRIC\", \"VALUE\": 0.0007985697056905}, {\"YEAR\": 2019.0, \"Tech_name\": \"FTR-HCV-LNG\", \"VALUE\": 0.0006479999866516}, {\"YEAR\": 2019.0, \"Tech_name\": \"FTR-LCV-CNG\", \"VALUE\": 0.011468100001366102}, {\"YEAR\": 2019.0, \"Tech_name\": \"FTR-LCV-DIESEL\", \"VALUE\": 2.9990698538339555}, {\"YEAR\": 2019.0, \"Tech_name\": \"FTR-LCV-ELECTRIC\", \"VALUE\": 0.001823599521402}, {\"YEAR\": 2019.0, \"Tech_name\": \"FTR-LCV-Petrol\", \"VALUE\": 0.18419999998514083}, {\"YEAR\": 2019.0, \"Tech_name\": \"FTR-RAIL-DIESEL\", \"VALUE\": 0.4987424000073221}, {\"YEAR\": 2019.0, \"Tech_name\": \"FTR-RAIL-ELECTRIC\", \"VALUE\": 0.03230886647176}, {\"YEAR\": 2020.0, \"Tech_name\": \"FTR-AIR-AIR\", \"VALUE\": 4.9268448}, {\"YEAR\": 2020.0, \"Tech_name\": \"FTR-HCV-DIESEL\", \"VALUE\": 4.460883999996292}, {\"YEAR\": 2020.0, \"Tech_name\": \"FTR-HCV-ELECTRIC\", \"VALUE\": 0.0007985697056905}, {\"YEAR\": 2020.0, \"Tech_name\": \"FTR-HCV-LNG\", \"VALUE\": 0.0006480000061590167}, {\"YEAR\": 2020.0, \"Tech_name\": \"FTR-LCV-CNG\", \"VALUE\": 0.011468100001076176}, {\"YEAR\": 2020.0, \"Tech_name\": \"FTR-LCV-DIESEL\", \"VALUE\": 2.9990698538210196}, {\"YEAR\": 2020.0, \"Tech_name\": \"FTR-LCV-ELECTRIC\", \"VALUE\": 0.001823599521402}, {\"YEAR\": 2020.0, \"Tech_name\": \"FTR-LCV-Petrol\", \"VALUE\": 0.18419999998514078}, {\"YEAR\": 2020.0, \"Tech_name\": \"FTR-RAIL-DIESEL\", \"VALUE\": 0.4987424000073221}, {\"YEAR\": 2020.0, \"Tech_name\": \"FTR-RAIL-ELECTRIC\", \"VALUE\": 0.03230886647176}, {\"YEAR\": 2021.0, \"Tech_name\": \"FTR-AIR-AIR\", \"VALUE\": 5.1868866}, {\"YEAR\": 2021.0, \"Tech_name\": \"FTR-HCV-DIESEL\", \"VALUE\": 4.67564999999915}, {\"YEAR\": 2021.0, \"Tech_name\": \"FTR-HCV-ELECTRIC\", \"VALUE\": 0.00079950161845705}, {\"YEAR\": 2021.0, \"Tech_name\": \"FTR-HCV-LNG\", \"VALUE\": 0.012149999999528502}, {\"YEAR\": 2021.0, \"Tech_name\": \"FTR-LCV-CNG\", \"VALUE\": 0.0149478999966232}, {\"YEAR\": 2021.0, \"Tech_name\": \"FTR-LCV-DIESEL\", \"VALUE\": 3.14410199999838}, {\"YEAR\": 2021.0, \"Tech_name\": \"FTR-LCV-ELECTRIC\", \"VALUE\": 0.0036602870776467}, {\"YEAR\": 2021.0, \"Tech_name\": \"FTR-LCV-Petrol\", \"VALUE\": 0.19387499998647498}, {\"YEAR\": 2021.0, \"Tech_name\": \"FTR-RAIL-DIESEL\", \"VALUE\": 0.40496571745928645}, {\"YEAR\": 2021.0, \"Tech_name\": \"FTR-RAIL-ELECTRIC\", \"VALUE\": 0.0380362357318336}, {\"YEAR\": 2022.0, \"Tech_name\": \"FTR-AIR-AIR\", \"VALUE\": 5.4469284}, {\"YEAR\": 2022.0, \"Tech_name\": \"FTR-HCV-DIESEL\", \"VALUE\": 4.89056200000894}, {\"YEAR\": 2022.0, \"Tech_name\": \"FTR-HCV-ELECTRIC\", \"VALUE\": 0.0005346761701974626}, {\"YEAR\": 2022.0, \"Tech_name\": \"FTR-HCV-LNG\", \"VALUE\": 0.0236520000036398}, {\"YEAR\": 2022.0, \"Tech_name\": \"FTR-LCV-CNG\", \"VALUE\": 0.0184150000060617}, {\"YEAR\": 2022.0, \"Tech_name\": \"FTR-LCV-DIESEL\", \"VALUE\": 3.256614987023392}, {\"YEAR\": 2022.0, \"Tech_name\": \"FTR-LCV-ELECTRIC\", \"VALUE\": 0.0024421388642559}, {\"YEAR\": 2022.0, \"Tech_name\": \"FTR-LCV-Petrol\", \"VALUE\": 0.20354999998744483}, {\"YEAR\": 2022.0, \"Tech_name\": \"FTR-RAIL-DIESEL\", \"VALUE\": 0.30174582793715066}, {\"YEAR\": 2022.0, \"Tech_name\": \"FTR-RAIL-ELECTRIC\", \"VALUE\": 0.0446593525667155}, {\"YEAR\": 2023.0, \"Tech_name\": \"FTR-AIR-AIR\", \"VALUE\": 5.7070742999999995}, {\"YEAR\": 2023.0, \"Tech_name\": \"FTR-HCV-DIESEL\", \"VALUE\": 5.10532799999055}, {\"YEAR\": 2023.0, \"Tech_name\": \"FTR-HCV-ELECTRIC\", \"VALUE\": 0.0010601265554974}, {\"YEAR\": 2023.0, \"Tech_name\": \"FTR-HCV-LNG\", \"VALUE\": 0.0350730000039039}, {\"YEAR\": 2023.0, \"Tech_name\": \"FTR-LCV-CNG\", \"VALUE\": 0.0218820999970194}, {\"YEAR\": 2023.0, \"Tech_name\": \"FTR-LCV-DIESEL\", \"VALUE\": 3.4308552449872276}, {\"YEAR\": 2023.0, \"Tech_name\": \"FTR-LCV-ELECTRIC\", \"VALUE\": 0.002501582303357}, {\"YEAR\": 2023.0, \"Tech_name\": \"FTR-LCV-Petrol\", \"VALUE\": 0.213224999988597}, {\"YEAR\": 2023.0, \"Tech_name\": \"FTR-RAIL-DIESEL\", \"VALUE\": 0.2630100182686907}, {\"YEAR\": 2023.0, \"Tech_name\": \"FTR-RAIL-ELECTRIC\", \"VALUE\": 0.0505045374506541}, {\"YEAR\": 2024.0, \"Tech_name\": \"FTR-AIR-AIR\", \"VALUE\": 5.967116100000001}, {\"YEAR\": 2024.0, \"Tech_name\": \"FTR-HCV-DIESEL\", \"VALUE\": 5.32024000000034}, {\"YEAR\": 2024.0, \"Tech_name\": \"FTR-HCV-ELECTRIC\", \"VALUE\": 0.0010601265554974}, {\"YEAR\": 2024.0, \"Tech_name\": \"FTR-HCV-LNG\", \"VALUE\": 0.0465749999962281}, {\"YEAR\": 2024.0, \"Tech_name\": \"FTR-LCV-CNG\", \"VALUE\": 0.025361899992276418}, {\"YEAR\": 2024.0, \"Tech_name\": \"FTR-LCV-DIESEL\", \"VALUE\": 3.5788740000251003}, {\"YEAR\": 2024.0, \"Tech_name\": \"FTR-LCV-ELECTRIC\", \"VALUE\": 0.002501582303357}, {\"YEAR\": 2024.0, \"Tech_name\": \"FTR-LCV-Petrol\", \"VALUE\": 0.222899999989747}, {\"YEAR\": 2024.0, \"Tech_name\": \"FTR-RAIL-DIESEL\", \"VALUE\": 0.1611902555170238}, {\"YEAR\": 2024.0, \"Tech_name\": \"FTR-RAIL-ELECTRIC\", \"VALUE\": 0.0563497223353489}, {\"YEAR\": 2025.0, \"Tech_name\": \"FTR-AIR-AIR\", \"VALUE\": 6.227157899999999}, {\"YEAR\": 2025.0, \"Tech_name\": \"FTR-HCV-B20\", \"VALUE\": 5.535006000003162}, {\"YEAR\": 2025.0, \"Tech_name\": \"FTR-HCV-ELECTRIC\", \"VALUE\": 0.0010601265554974}, {\"YEAR\": 2025.0, \"Tech_name\": \"FTR-HCV-LNG\", \"VALUE\": 0.05807700000232}, {\"YEAR\": 2025.0, \"Tech_name\": \"FTR-LCV-B20\", \"VALUE\": 3.7237979999964814}, {\"YEAR\": 2025.0, \"Tech_name\": \"FTR-LCV-CNG\", \"VALUE\": 0.02882900000171501}, {\"YEAR\": 2025.0, \"Tech_name\": \"FTR-LCV-ELECTRIC\", \"VALUE\": 0.002501582303357}, {\"YEAR\": 2025.0, \"Tech_name\": \"FTR-LCV-Petrol\", \"VALUE\": 0.23257499999090311}, {\"YEAR\": 2025.0, \"Tech_name\": \"FTR-RAIL-ELECTRIC\", \"VALUE\": 0.0621942299878098}, {\"YEAR\": 2026.0, \"Tech_name\": \"FTR-AIR-AIR\", \"VALUE\": 6.5550729}, {\"YEAR\": 2026.0, \"Tech_name\": \"FTR-HCV-B20\", \"VALUE\": 5.80043399999034}, {\"YEAR\": 2026.0, \"Tech_name\": \"FTR-HCV-ELECTRIC\", \"VALUE\": 0.0010601266534934}, {\"YEAR\": 2026.0, \"Tech_name\": \"FTR-HCV-LNG\", \"VALUE\": 0.0755729999944742}, {\"YEAR\": 2026.0, \"Tech_name\": \"FTR-LCV-B20\", \"VALUE\": 3.90304200000828}, {\"YEAR\": 2026.0, \"Tech_name\": \"FTR-LCV-CNG\", \"VALUE\": 0.0322960999926727}, {\"YEAR\": 2026.0, \"Tech_name\": \"FTR-LCV-ELECTRIC\", \"VALUE\": 0.0025015821824776}, {\"YEAR\": 2026.0, \"Tech_name\": \"FTR-LCV-Petrol\", \"VALUE\": 0.24476250002397926}, {\"YEAR\": 2026.0, \"Tech_name\": \"FTR-RAIL-ELECTRIC\", \"VALUE\": 0.05920671213839378}, {\"YEAR\": 2027.0, \"Tech_name\": \"FTR-AIR-AIR\", \"VALUE\": 6.883092}, {\"YEAR\": 2027.0, \"Tech_name\": \"FTR-HCV-B20\", \"VALUE\": 6.06600800000568}, {\"YEAR\": 2027.0, \"Tech_name\": \"FTR-HCV-ELECTRIC\", \"VALUE\": 0.0010601265554974}, {\"YEAR\": 2027.0, \"Tech_name\": \"FTR-HCV-LNG\", \"VALUE\": 0.0930690000009428}, {\"YEAR\": 2027.0, \"Tech_name\": \"FTR-LCV-B20\", \"VALUE\": 4.082286000020393}, {\"YEAR\": 2027.0, \"Tech_name\": \"FTR-LCV-CNG\", \"VALUE\": 0.0357632000021113}, {\"YEAR\": 2027.0, \"Tech_name\": \"FTR-LCV-ELECTRIC\", \"VALUE\": 0.0025822785332072}, {\"YEAR\": 2027.0, \"Tech_name\": \"FTR-LCV-Petrol\", \"VALUE\": 0.2569500000026873}, {\"YEAR\": 2027.0, \"Tech_name\": \"FTR-RAIL-ELECTRIC\", \"VALUE\": 0.06182201357121345}, {\"YEAR\": 2028.0, \"Tech_name\": \"FTR-AIR-AIR\", \"VALUE\": 7.2110069999999995}, {\"YEAR\": 2028.0, \"Tech_name\": \"FTR-HCV-B20\", \"VALUE\": 6.33143599999283}, {\"YEAR\": 2028.0, \"Tech_name\": \"FTR-HCV-ELECTRIC\", \"VALUE\": 0.0010601265554974}, {\"YEAR\": 2028.0, \"Tech_name\": \"FTR-HCV-LNG\", \"VALUE\": 0.110646000008072}, {\"YEAR\": 2028.0, \"Tech_name\": \"FTR-LCV-B20\", \"VALUE\": 4.2614910000193005}, {\"YEAR\": 2028.0, \"Tech_name\": \"FTR-LCV-CNG\", \"VALUE\": 0.03924299999736831}, {\"YEAR\": 2028.0, \"Tech_name\": \"FTR-LCV-ELECTRIC\", \"VALUE\": 0.0025822785332072}, {\"YEAR\": 2028.0, \"Tech_name\": \"FTR-LCV-Petrol\", \"VALUE\": 0.2691374999810518}, {\"YEAR\": 2028.0, \"Tech_name\": \"FTR-RAIL-ELECTRIC\", \"VALUE\": 0.06146412709805813}, {\"YEAR\": 2029.0, \"Tech_name\": \"FTR-AIR-AIR\", \"VALUE\": 7.5390261}, {\"YEAR\": 2029.0, \"Tech_name\": \"FTR-HCV-B20\", \"VALUE\": 6.597010000008159}, {\"YEAR\": 2029.0, \"Tech_name\": \"FTR-HCV-ELECTRIC\", \"VALUE\": 0.0005323798037937}, {\"YEAR\": 2029.0, \"Tech_name\": \"FTR-HCV-LNG\", \"VALUE\": 0.1281420000043}, {\"YEAR\": 2029.0, \"Tech_name\": \"FTR-LCV-B20\", \"VALUE\": 4.440734999974684}, {\"YEAR\": 2029.0, \"Tech_name\": \"FTR-LCV-CNG\", \"VALUE\": 0.042710100006806896}, {\"YEAR\": 2029.0, \"Tech_name\": \"FTR-LCV-ELECTRIC\", \"VALUE\": 0.0012944120123125}, {\"YEAR\": 2029.0, \"Tech_name\": \"FTR-LCV-Petrol\", \"VALUE\": 0.281325000014476}, {\"YEAR\": 2029.0, \"Tech_name\": \"FTR-RAIL-ELECTRIC\", \"VALUE\": 0.05702763958910735}, {\"YEAR\": 2030.0, \"Tech_name\": \"FTR-AIR-AIR\", \"VALUE\": 7.866941100000001}, {\"YEAR\": 2030.0, \"Tech_name\": \"FTR-HCV-B20\", \"VALUE\": 6.8624379999953105}, {\"YEAR\": 2030.0, \"Tech_name\": \"FTR-HCV-ELECTRIC\", \"VALUE\": 0.0005323798037937}, {\"YEAR\": 2030.0, \"Tech_name\": \"FTR-HCV-LNG\", \"VALUE\": 0.145638000001583}, {\"YEAR\": 2030.0, \"Tech_name\": \"FTR-LCV-B20\", \"VALUE\": 4.61997899998678}, {\"YEAR\": 2030.0, \"Tech_name\": \"FTR-LCV-CNG\", \"VALUE\": 0.04617719999776452}, {\"YEAR\": 2030.0, \"Tech_name\": \"FTR-LCV-ELECTRIC\", \"VALUE\": 0.0025822785332072}, {\"YEAR\": 2030.0, \"Tech_name\": \"FTR-LCV-Petrol\", \"VALUE\": 0.29351249998890233}, {\"YEAR\": 2030.0, \"Tech_name\": \"FTR-RAIL-ELECTRIC\", \"VALUE\": 0.061336028058504494}, {\"YEAR\": 2031.0, \"Tech_name\": \"FTR-AIR-AIR\", \"VALUE\": 8.2804263}, {\"YEAR\": 2031.0, \"Tech_name\": \"FTR-HCV-B20\", \"VALUE\": 7.19020799999038}, {\"YEAR\": 2031.0, \"Tech_name\": \"FTR-HCV-ELECTRIC\", \"VALUE\": 0.0005323798037937}, {\"YEAR\": 2031.0, \"Tech_name\": \"FTR-HCV-LNG\", \"VALUE\": 0.17155800000943}, {\"YEAR\": 2031.0, \"Tech_name\": \"FTR-LCV-B20\", \"VALUE\": 4.841459999996002}, {\"YEAR\": 2031.0, \"Tech_name\": \"FTR-LCV-CNG\", \"VALUE\": 0.0496569999926609}, {\"YEAR\": 2031.0, \"Tech_name\": \"FTR-LCV-ELECTRIC\", \"VALUE\": 0.0012562574618368}, {\"YEAR\": 2031.0, \"Tech_name\": \"FTR-LCV-Petrol\", \"VALUE\": 0.308887500013952}, {\"YEAR\": 2031.0, \"Tech_name\": \"FTR-RAIL-ELECTRIC\", \"VALUE\": 0.06046866735427903}, {\"YEAR\": 2032.0, \"Tech_name\": \"FTR-AIR-AIR\", \"VALUE\": 8.6939115}, {\"YEAR\": 2032.0, \"Tech_name\": \"FTR-HCV-B20\", \"VALUE\": 7.5179780000067}, {\"YEAR\": 2032.0, \"Tech_name\": \"FTR-HCV-ELECTRIC\", \"VALUE\": 0.0005323798037937}, {\"YEAR\": 2032.0, \"Tech_name\": \"FTR-HCV-LNG\", \"VALUE\": 0.197478000000377}, {\"YEAR\": 2032.0, \"Tech_name\": \"FTR-LCV-B20\", \"VALUE\": 5.06298000001843}, {\"YEAR\": 2032.0, \"Tech_name\": \"FTR-LCV-CNG\", \"VALUE\": 0.0531240999825896}, {\"YEAR\": 2032.0, \"Tech_name\": \"FTR-LCV-ELECTRIC\", \"VALUE\": 0.0012562574618368}, {\"YEAR\": 2032.0, \"Tech_name\": \"FTR-LCV-Petrol\", \"VALUE\": 0.324225000022125}, {\"YEAR\": 2032.0, \"Tech_name\": \"FTR-RAIL-ELECTRIC\", \"VALUE\": 0.0641085}, {\"YEAR\": 2033.0, \"Tech_name\": \"FTR-AIR-AIR\", \"VALUE\": 9.1075008}, {\"YEAR\": 2033.0, \"Tech_name\": \"FTR-HCV-B20\", \"VALUE\": 7.845894000008701}, {\"YEAR\": 2033.0, \"Tech_name\": \"FTR-HCV-ELECTRIC\", \"VALUE\": 0.0005323798037937}, {\"YEAR\": 2033.0, \"Tech_name\": \"FTR-HCV-LNG\", \"VALUE\": 0.223397999999264}, {\"YEAR\": 2033.0, \"Tech_name\": \"FTR-LCV-B20\", \"VALUE\": 5.28446100002766}, {\"YEAR\": 2033.0, \"Tech_name\": \"FTR-LCV-CNG\", \"VALUE\": 0.0565911999952985}, {\"YEAR\": 2033.0, \"Tech_name\": \"FTR-LCV-ELECTRIC\", \"VALUE\": 0.0012562574618368}, {\"YEAR\": 2033.0, \"Tech_name\": \"FTR-LCV-Petrol\", \"VALUE\": 0.339562499975727}, {\"YEAR\": 2033.0, \"Tech_name\": \"FTR-RAIL-ELECTRIC\", \"VALUE\": 0.0671575}, {\"YEAR\": 2034.0, \"Tech_name\": \"FTR-AIR-AIR\", \"VALUE\": 9.520986}, {\"YEAR\": 2034.0, \"Tech_name\": \"FTR-HCV-B20\", \"VALUE\": 8.173664000003773}, {\"YEAR\": 2034.0, \"Tech_name\": \"FTR-HCV-ELECTRIC\", \"VALUE\": 0.0005323798037937}, {\"YEAR\": 2034.0, \"Tech_name\": \"FTR-HCV-LNG\", \"VALUE\": 0.249318000001999}, {\"YEAR\": 2034.0, \"Tech_name\": \"FTR-LCV-B20\", \"VALUE\": 5.50598099999334}, {\"YEAR\": 2034.0, \"Tech_name\": \"FTR-LCV-CNG\", \"VALUE\": 0.04788960552621931}, {\"YEAR\": 2034.0, \"Tech_name\": \"FTR-LCV-ELECTRIC\", \"VALUE\": 0.039985053025132}, {\"YEAR\": 2034.0, \"Tech_name\": \"FTR-LCV-Petrol\", \"VALUE\": 0.354937499996595}, {\"YEAR\": 2034.0, \"Tech_name\": \"FTR-RAIL-ELECTRIC\", \"VALUE\": 0.0702065}, {\"YEAR\": 2035.0, \"Tech_name\": \"FTR-AIR-AIR\", \"VALUE\": 9.9344712}, {\"YEAR\": 2035.0, \"Tech_name\": \"FTR-HCV-B20\", \"VALUE\": 8.50143399999885}, {\"YEAR\": 2035.0, \"Tech_name\": \"FTR-HCV-ELECTRIC\", \"VALUE\": 0.0702520514137066}, {\"YEAR\": 2035.0, \"Tech_name\": \"FTR-HCV-LNG\", \"VALUE\": 0.254022720170682}, {\"YEAR\": 2035.0, \"Tech_name\": \"FTR-LCV-B20\", \"VALUE\": 5.72746200000256}, {\"YEAR\": 2035.0, \"Tech_name\": \"FTR-LCV-CNG\", \"VALUE\": 0.044195999992371095}, {\"YEAR\": 2035.0, \"Tech_name\": \"FTR-LCV-ELECTRIC\", \"VALUE\": 0.0629344457853034}, {\"YEAR\": 2035.0, \"Tech_name\": \"FTR-LCV-Petrol\", \"VALUE\": 0.37027500000476693}, {\"YEAR\": 2035.0, \"Tech_name\": \"FTR-RAIL-ELECTRIC\", \"VALUE\": 0.073256}, {\"YEAR\": 2036.0, \"Tech_name\": \"FTR-AIR-AIR\", \"VALUE\": 10.4555958}, {\"YEAR\": 2036.0, \"Tech_name\": \"FTR-HCV-B20\", \"VALUE\": 8.90585400000156}, {\"YEAR\": 2036.0, \"Tech_name\": \"FTR-HCV-ELECTRIC\", \"VALUE\": 0.163653016912195}, {\"YEAR\": 2036.0, \"Tech_name\": \"FTR-HCV-LNG\", \"VALUE\": 0.2631043639856881}, {\"YEAR\": 2036.0, \"Tech_name\": \"FTR-LCV-B20\", \"VALUE\": 6.00100799998764}, {\"YEAR\": 2036.0, \"Tech_name\": \"FTR-LCV-CNG\", \"VALUE\": 0.04305299999352421}, {\"YEAR\": 2036.0, \"Tech_name\": \"FTR-LCV-ELECTRIC\", \"VALUE\": 0.100297973820587}, {\"YEAR\": 2036.0, \"Tech_name\": \"FTR-LCV-Petrol\", \"VALUE\": 0.36862499999188286}, {\"YEAR\": 2036.0, \"Tech_name\": \"FTR-RAIL-ELECTRIC\", \"VALUE\": 0.077099}, {\"YEAR\": 2037.0, \"Tech_name\": \"FTR-AIR-AIR\", \"VALUE\": 10.9768245}, {\"YEAR\": 2037.0, \"Tech_name\": \"FTR-HCV-B20\", \"VALUE\": 9.31027400000428}, {\"YEAR\": 2037.0, \"Tech_name\": \"FTR-HCV-ELECTRIC\", \"VALUE\": 0.310561083147369}, {\"YEAR\": 2037.0, \"Tech_name\": \"FTR-HCV-LNG\", \"VALUE\": 0.255904116491898}, {\"YEAR\": 2037.0, \"Tech_name\": \"FTR-LCV-B20\", \"VALUE\": 6.274515000016261}, {\"YEAR\": 2037.0, \"Tech_name\": \"FTR-LCV-CNG\", \"VALUE\": 0.0416560000010941}, {\"YEAR\": 2037.0, \"Tech_name\": \"FTR-LCV-ELECTRIC\", \"VALUE\": 0.14232181164358}, {\"YEAR\": 2037.0, \"Tech_name\": \"FTR-LCV-Petrol\", \"VALUE\": 0.36337500001536865}, {\"YEAR\": 2037.0, \"Tech_name\": \"FTR-RAIL-ELECTRIC\", \"VALUE\": 0.080942}, {\"YEAR\": 2038.0, \"Tech_name\": \"FTR-AIR-AIR\", \"VALUE\": 11.4979491}, {\"YEAR\": 2038.0, \"Tech_name\": \"FTR-HCV-B20\", \"VALUE\": 9.71483999999269}, {\"YEAR\": 2038.0, \"Tech_name\": \"FTR-HCV-ELECTRIC\", \"VALUE\": 0.477451494783419}, {\"YEAR\": 2038.0, \"Tech_name\": \"FTR-HCV-LNG\", \"VALUE\": 0.24246136059814502}, {\"YEAR\": 2038.0, \"Tech_name\": \"FTR-LCV-B20\", \"VALUE\": 6.54806100000133}, {\"YEAR\": 2038.0, \"Tech_name\": \"FTR-LCV-CNG\", \"VALUE\": 0.0400049999965995}, {\"YEAR\": 2038.0, \"Tech_name\": \"FTR-LCV-ELECTRIC\", \"VALUE\": 0.188073897481295}, {\"YEAR\": 2038.0, \"Tech_name\": \"FTR-LCV-Petrol\", \"VALUE\": 0.355500000023312}, {\"YEAR\": 2038.0, \"Tech_name\": \"FTR-RAIL-ELECTRIC\", \"VALUE\": 0.084785}, {\"YEAR\": 2039.0, \"Tech_name\": \"FTR-AIR-AIR\", \"VALUE\": 12.0190737}, {\"YEAR\": 2039.0, \"Tech_name\": \"FTR-HCV-B20\", \"VALUE\": 10.1192599999954}, {\"YEAR\": 2039.0, \"Tech_name\": \"FTR-HCV-ELECTRIC\", \"VALUE\": 0.611092536649653}, {\"YEAR\": 2039.0, \"Tech_name\": \"FTR-HCV-LNG\", \"VALUE\": 0.23929818941370903}, {\"YEAR\": 2039.0, \"Tech_name\": \"FTR-LCV-B20\", \"VALUE\": 6.821567999973191}, {\"YEAR\": 2039.0, \"Tech_name\": \"FTR-LCV-CNG\", \"VALUE\": 0.03797299999248933}, {\"YEAR\": 2039.0, \"Tech_name\": \"FTR-LCV-ELECTRIC\", \"VALUE\": 0.23900058182449202}, {\"YEAR\": 2039.0, \"Tech_name\": \"FTR-LCV-Petrol\", \"VALUE\": 0.34387500001685095}, {\"YEAR\": 2039.0, \"Tech_name\": \"FTR-RAIL-ELECTRIC\", \"VALUE\": 0.088628}, {\"YEAR\": 2040.0, \"Tech_name\": \"FTR-AIR-AIR\", \"VALUE\": 12.5403024}, {\"YEAR\": 2040.0, \"Tech_name\": \"FTR-HCV-B20\", \"VALUE\": 10.5236799999981}, {\"YEAR\": 2040.0, \"Tech_name\": \"FTR-HCV-ELECTRIC\", \"VALUE\": 0.511108990378618}, {\"YEAR\": 2040.0, \"Tech_name\": \"FTR-HCV-LNG\", \"VALUE\": 0.230421077826185}, {\"YEAR\": 2040.0, \"Tech_name\": \"FTR-LCV-B20\", \"VALUE\": 7.09511400001502}, {\"YEAR\": 2040.0, \"Tech_name\": \"FTR-LCV-CNG\", \"VALUE\": 0.035814000000827934}, {\"YEAR\": 2040.0, \"Tech_name\": \"FTR-LCV-ELECTRIC\", \"VALUE\": 0.19675987691921767}, {\"YEAR\": 2040.0, \"Tech_name\": \"FTR-LCV-Petrol\", \"VALUE\": 0.3289116887191979}, {\"YEAR\": 2040.0, \"Tech_name\": \"FTR-RAIL-ELECTRIC\", \"VALUE\": 0.09247100000000001}, {\"YEAR\": 2041.0, \"Tech_name\": \"FTR-AIR-AIR\", \"VALUE\": 13.1968611}, {\"YEAR\": 2041.0, \"Tech_name\": \"FTR-HCV-B20\", \"VALUE\": 11.0222699999908}, {\"YEAR\": 2041.0, \"Tech_name\": \"FTR-HCV-ELECTRIC\", \"VALUE\": 0.664593485256624}, {\"YEAR\": 2041.0, \"Tech_name\": \"FTR-HCV-LNG\", \"VALUE\": 0.214752087845839}, {\"YEAR\": 2041.0, \"Tech_name\": \"FTR-LCV-B20\", \"VALUE\": 7.432658999986599}, {\"YEAR\": 2041.0, \"Tech_name\": \"FTR-LCV-CNG\", \"VALUE\": 0.0334009999971022}, {\"YEAR\": 2041.0, \"Tech_name\": \"FTR-LCV-ELECTRIC\", \"VALUE\": 0.240611200031959}, {\"YEAR\": 2041.0, \"Tech_name\": \"FTR-LCV-Petrol\", \"VALUE\": 0.3108749999773853}, {\"YEAR\": 2041.0, \"Tech_name\": \"FTR-RAIL-ELECTRIC\", \"VALUE\": 0.097313}, {\"YEAR\": 2042.0, \"Tech_name\": \"FTR-AIR-AIR\", \"VALUE\": 13.8535239}, {\"YEAR\": 2042.0, \"Tech_name\": \"FTR-HCV-B20\", \"VALUE\": 11.5210059999904}, {\"YEAR\": 2042.0, \"Tech_name\": \"FTR-HCV-ELECTRIC\", \"VALUE\": 0.8305964483085887}, {\"YEAR\": 2042.0, \"Tech_name\": \"FTR-HCV-LNG\", \"VALUE\": 0.190977001234907}, {\"YEAR\": 2042.0, \"Tech_name\": \"FTR-LCV-B20\", \"VALUE\": 7.770204000014928}, {\"YEAR\": 2042.0, \"Tech_name\": \"FTR-LCV-CNG\", \"VALUE\": 0.030733999999793}, {\"YEAR\": 2042.0, \"Tech_name\": \"FTR-LCV-ELECTRIC\", \"VALUE\": 0.427411203800346}, {\"YEAR\": 2042.0, \"Tech_name\": \"FTR-LCV-Petrol\", \"VALUE\": 0.289499999998952}, {\"YEAR\": 2042.0, \"Tech_name\": \"FTR-RAIL-ELECTRIC\", \"VALUE\": 0.10723509388759389}, {\"YEAR\": 2043.0, \"Tech_name\": \"FTR-AIR-AIR\", \"VALUE\": 14.5101867}, {\"YEAR\": 2043.0, \"Tech_name\": \"FTR-HCV-B20\", \"VALUE\": 12.0195960000044}, {\"YEAR\": 2043.0, \"Tech_name\": \"FTR-HCV-ELECTRIC\", \"VALUE\": 1.45800800809243}, {\"YEAR\": 2043.0, \"Tech_name\": \"FTR-HCV-LNG\", \"VALUE\": 0.179064867660463}, {\"YEAR\": 2043.0, \"Tech_name\": \"FTR-LCV-B20\", \"VALUE\": 8.107709999973304}, {\"YEAR\": 2043.0, \"Tech_name\": \"FTR-LCV-CNG\", \"VALUE\": 0.0278130000089004}, {\"YEAR\": 2043.0, \"Tech_name\": \"FTR-LCV-ELECTRIC\", \"VALUE\": 0.500760429055732}, {\"YEAR\": 2043.0, \"Tech_name\": \"FTR-LCV-Petrol\", \"VALUE\": 0.264750000023923}, {\"YEAR\": 2043.0, \"Tech_name\": \"FTR-RAIL-ELECTRIC\", \"VALUE\": 0.10447536131386863}, {\"YEAR\": 2044.0, \"Tech_name\": \"FTR-AIR-AIR\", \"VALUE\": 15.1668495}, {\"YEAR\": 2044.0, \"Tech_name\": \"FTR-HCV-B20\", \"VALUE\": 12.518332000004}, {\"YEAR\": 2044.0, \"Tech_name\": \"FTR-HCV-ELECTRIC\", \"VALUE\": 1.1337800512988434}, {\"YEAR\": 2044.0, \"Tech_name\": \"FTR-HCV-LNG\", \"VALUE\": 0.160018423473091}, {\"YEAR\": 2044.0, \"Tech_name\": \"FTR-LCV-B20\", \"VALUE\": 8.445255000001627}, {\"YEAR\": 2044.0, \"Tech_name\": \"FTR-LCV-CNG\", \"VALUE\": 0.0246380000059435}, {\"YEAR\": 2044.0, \"Tech_name\": \"FTR-LCV-ELECTRIC\", \"VALUE\": 0.38735896340318227}, {\"YEAR\": 2044.0, \"Tech_name\": \"FTR-LCV-Petrol\", \"VALUE\": 0.23559416060671587}, {\"YEAR\": 2044.0, \"Tech_name\": \"FTR-RAIL-ELECTRIC\", \"VALUE\": 0.1118385}, {\"YEAR\": 2045.0, \"Tech_name\": \"FTR-AIR-AIR\", \"VALUE\": 15.823408199999998}, {\"YEAR\": 2045.0, \"Tech_name\": \"FTR-HCV-B20\", \"VALUE\": 13.016921999996702}, {\"YEAR\": 2045.0, \"Tech_name\": \"FTR-HCV-ELECTRIC\", \"VALUE\": 1.31321088016219}, {\"YEAR\": 2045.0, \"Tech_name\": \"FTR-HCV-LNG\", \"VALUE\": 0.13173888126038416}, {\"YEAR\": 2045.0, \"Tech_name\": \"FTR-LCV-B20\", \"VALUE\": 8.782799999973212}, {\"YEAR\": 2045.0, \"Tech_name\": \"FTR-LCV-CNG\", \"VALUE\": 0.022849283190602383}, {\"YEAR\": 2045.0, \"Tech_name\": \"FTR-LCV-ELECTRIC\", \"VALUE\": 0.4426613275837113}, {\"YEAR\": 2045.0, \"Tech_name\": \"FTR-LCV-Petrol\", \"VALUE\": 0.20106427935226742}, {\"YEAR\": 2045.0, \"Tech_name\": \"FTR-RAIL-ELECTRIC\", \"VALUE\": 0.1166805}, {\"YEAR\": 2046.0, \"Tech_name\": \"FTR-AIR-AIR\", \"VALUE\": 16.6504827}, {\"YEAR\": 2046.0, \"Tech_name\": \"FTR-HCV-B20\", \"VALUE\": 13.6312900000071}, {\"YEAR\": 2046.0, \"Tech_name\": \"FTR-HCV-ELECTRIC\", \"VALUE\": 1.5074442656434979}, {\"YEAR\": 2046.0, \"Tech_name\": \"FTR-HCV-LNG\", \"VALUE\": 0.11899559552252299}, {\"YEAR\": 2046.0, \"Tech_name\": \"FTR-LCV-B20\", \"VALUE\": 9.19896900000167}, {\"YEAR\": 2046.0, \"Tech_name\": \"FTR-LCV-CNG\", \"VALUE\": 0.0173989999947662}, {\"YEAR\": 2046.0, \"Tech_name\": \"FTR-LCV-ELECTRIC\", \"VALUE\": 0.753916567366568}, {\"YEAR\": 2046.0, \"Tech_name\": \"FTR-LCV-Petrol\", \"VALUE\": 0.1953263934863877}, {\"YEAR\": 2046.0, \"Tech_name\": \"FTR-RAIL-ELECTRIC\", \"VALUE\": 0.1227795}, {\"YEAR\": 2047.0, \"Tech_name\": \"FTR-AIR-AIR\", \"VALUE\": 17.4775572}, {\"YEAR\": 2047.0, \"Tech_name\": \"FTR-HCV-B20\", \"VALUE\": 14.245511999989398}, {\"YEAR\": 2047.0, \"Tech_name\": \"FTR-HCV-ELECTRIC\", \"VALUE\": 1.7164944240078999}, {\"YEAR\": 2047.0, \"Tech_name\": \"FTR-HCV-LNG\", \"VALUE\": 0.10162737947284833}, {\"YEAR\": 2047.0, \"Tech_name\": \"FTR-LCV-B20\", \"VALUE\": 9.615176999986568}, {\"YEAR\": 2047.0, \"Tech_name\": \"FTR-LCV-CNG\", \"VALUE\": 0.010390229755897283}, {\"YEAR\": 2047.0, \"Tech_name\": \"FTR-LCV-ELECTRIC\", \"VALUE\": 0.851418355229921}, {\"YEAR\": 2047.0, \"Tech_name\": \"FTR-LCV-Petrol\", \"VALUE\": 0.18050709143410673}, {\"YEAR\": 2047.0, \"Tech_name\": \"FTR-RAIL-ELECTRIC\", \"VALUE\": 0.128878}, {\"YEAR\": 2048.0, \"Tech_name\": \"FTR-AIR-AIR\", \"VALUE\": 18.3046317}, {\"YEAR\": 2048.0, \"Tech_name\": \"FTR-HCV-B20\", \"VALUE\": 14.8598799999998}, {\"YEAR\": 2048.0, \"Tech_name\": \"FTR-HCV-ELECTRIC\", \"VALUE\": 1.9444828752637797}, {\"YEAR\": 2048.0, \"Tech_name\": \"FTR-HCV-LNG\", \"VALUE\": 0.07175379426413873}, {\"YEAR\": 2048.0, \"Tech_name\": \"FTR-LCV-B20\", \"VALUE\": 10.0313850000282}, {\"YEAR\": 2048.0, \"Tech_name\": \"FTR-LCV-CNG\", \"VALUE\": 0.02100513536544255}, {\"YEAR\": 2048.0, \"Tech_name\": \"FTR-LCV-ELECTRIC\", \"VALUE\": 0.953013110809717}, {\"YEAR\": 2048.0, \"Tech_name\": \"FTR-LCV-Petrol\", \"VALUE\": 0.18270395119196167}, {\"YEAR\": 2048.0, \"Tech_name\": \"FTR-RAIL-ELECTRIC\", \"VALUE\": 0.134976499999902}, {\"YEAR\": 2049.0, \"Tech_name\": \"FTR-AIR-AIR\", \"VALUE\": 19.1317062}, {\"YEAR\": 2049.0, \"Tech_name\": \"FTR-HCV-B20\", \"VALUE\": 15.4741020000033}, {\"YEAR\": 2049.0, \"Tech_name\": \"FTR-HCV-LNG\", \"VALUE\": 0.02909222419465136}, {\"YEAR\": 2049.0, \"Tech_name\": \"FTR-LCV-B20\", \"VALUE\": 10.4475930000131}, {\"YEAR\": 2049.0, \"Tech_name\": \"FTR-LCV-CNG\", \"VALUE\": 0.013868273269688623}, {\"YEAR\": 2049.0, \"Tech_name\": \"FTR-LCV-ELECTRIC\", \"VALUE\": 1.04521663477081}, {\"YEAR\": 2049.0, \"Tech_name\": \"FTR-LCV-Petrol\", \"VALUE\": 0.04762500002470918}, {\"YEAR\": 2050.0, \"Tech_name\": \"FTR-AIR-AIR\", \"VALUE\": 19.9587807}, {\"YEAR\": 2050.0, \"Tech_name\": \"FTR-HCV-B20\", \"VALUE\": 16.0884699999925}, {\"YEAR\": 2050.0, \"Tech_name\": \"FTR-HCV-ELECTRIC\", \"VALUE\": 2.4275044639673133}, {\"YEAR\": 2050.0, \"Tech_name\": \"FTR-LCV-B20\", \"VALUE\": 10.8637619999849}, {\"YEAR\": 2050.0, \"Tech_name\": \"FTR-LCV-ELECTRIC\", \"VALUE\": 1.17030512516473}, {\"YEAR\": 2050.0, \"Tech_name\": \"FTR-RAIL-ELECTRIC\", \"VALUE\": 0.147174}]}}, {\"mode\": \"vega-lite\"});\n",
       "</script>"
      ],
      "text/plain": [
       "alt.Chart(...)"
      ]
     },
     "execution_count": 60,
     "metadata": {},
     "output_type": "execute_result"
    }
   ],
   "source": [
    "sector = final_energy_all.Sector.drop_duplicates().tolist()[0]\n",
    "fe_dem = final_energy_all.loc[final_energy_all.Sector==sector,['YEAR','Tech_name','VALUE']]\n",
    "sec_chart = alt.Chart(fe_dem.dropna(),width=614,height=437)\n",
    "selection = alt.selection_multi(fields=['Tech_name'],bind='legend')\n",
    "sec_chart.mark_area().encode(\n",
    "                alt.X(\"YEAR:N\",axis=alt.Axis(labelFontSize=15,labelAngle=270,titleFontSize=20)),\n",
    "                alt.Y(\"sum(VALUE)\",title='Electricity Capacity in GW',axis=alt.Axis(labelFontSize=15,labelAngle=0,titleFontSize=20)),\n",
    "                alt.Color('Tech_name'),\n",
    "                opacity = alt.condition(selection, alt.value(1), alt.value(0.1)),\n",
    "                tooltip=['YEAR','Tech_name','sum(VALUE)']\n",
    "            ).add_selection(selection).interactive()\n"
   ]
  },
  {
   "cell_type": "code",
   "execution_count": 81,
   "metadata": {},
   "outputs": [
    {
     "name": "stderr",
     "output_type": "stream",
     "text": [
      "WARNING:param.Column00280: Displaying Panel objects in the notebook requires the panel extension to be loaded. Ensure you run pn.extension() before displaying objects in the notebook.\n"
     ]
    },
    {
     "data": {
      "text/plain": [
       "Column\n",
       "    [0] Column\n",
       "        [0] Select(name='sector', options=['Freight', 'Private', ...], value='Freight')\n",
       "    [1] Row\n",
       "        [0] Vega(Chart, selection=Selection)"
      ]
     },
     "execution_count": 81,
     "metadata": {},
     "output_type": "execute_result"
    }
   ],
   "source": [
    "import panel as pn\n",
    "sectors = final_energy_all.Sector.drop_duplicates().tolist()\n",
    "def fe_chart(sector):\n",
    "    fe_dem = final_energy_all.loc[final_energy_all.Sector==sector,['YEAR','Tech_name','VALUE']]\n",
    "    sec_chart = alt.Chart(fe_dem.dropna(),width=614,height=437)\n",
    "    chart = sec_chart.mark_area().encode(\n",
    "                alt.X(\"YEAR:N\",axis=alt.Axis(labelFontSize=15,labelAngle=270,titleFontSize=20)),\n",
    "                alt.Y(\"sum(VALUE)\",title='Electricity Capacity in GW',axis=alt.Axis(labelFontSize=15,labelAngle=0,titleFontSize=20)),\n",
    "                alt.Color('Tech_name'),\n",
    "                tooltip=['YEAR','Tech_name','sum(VALUE)']\n",
    "            )\n",
    "    return pn.pane.Vega(chart)\n",
    "     \n",
    "pn.interact(fe_chart,sector=sectors)"
   ]
  },
  {
   "cell_type": "code",
   "execution_count": 77,
   "metadata": {},
   "outputs": [
    {
     "data": {
      "text/plain": [
       "['Freight',\n",
       " 'Private',\n",
       " 'Public',\n",
       " 'Agriculture-pump',\n",
       " 'Agriculture-mecanization',\n",
       " 'Agriculture-solar pump',\n",
       " 'Commercial',\n",
       " 'Fisheries',\n",
       " 'Industry',\n",
       " 'Cooking urban',\n",
       " 'Cooking rural',\n",
       " 'Residential']"
      ]
     },
     "execution_count": 77,
     "metadata": {},
     "output_type": "execute_result"
    }
   ],
   "source": [
    "sectors"
   ]
  },
  {
   "cell_type": "code",
   "execution_count": 79,
   "metadata": {},
   "outputs": [
    {
     "data": {
      "text/html": [
       "\n",
       "<div id=\"altair-viz-e004651ee92d421daae9f18e005bc3cf\"></div>\n",
       "<script type=\"text/javascript\">\n",
       "  (function(spec, embedOpt){\n",
       "    let outputDiv = document.currentScript.previousElementSibling;\n",
       "    if (outputDiv.id !== \"altair-viz-e004651ee92d421daae9f18e005bc3cf\") {\n",
       "      outputDiv = document.getElementById(\"altair-viz-e004651ee92d421daae9f18e005bc3cf\");\n",
       "    }\n",
       "    const paths = {\n",
       "      \"vega\": \"https://cdn.jsdelivr.net/npm//vega@5?noext\",\n",
       "      \"vega-lib\": \"https://cdn.jsdelivr.net/npm//vega-lib?noext\",\n",
       "      \"vega-lite\": \"https://cdn.jsdelivr.net/npm//vega-lite@4.8.1?noext\",\n",
       "      \"vega-embed\": \"https://cdn.jsdelivr.net/npm//vega-embed@6?noext\",\n",
       "    };\n",
       "\n",
       "    function loadScript(lib) {\n",
       "      return new Promise(function(resolve, reject) {\n",
       "        var s = document.createElement('script');\n",
       "        s.src = paths[lib];\n",
       "        s.async = true;\n",
       "        s.onload = () => resolve(paths[lib]);\n",
       "        s.onerror = () => reject(`Error loading script: ${paths[lib]}`);\n",
       "        document.getElementsByTagName(\"head\")[0].appendChild(s);\n",
       "      });\n",
       "    }\n",
       "\n",
       "    function showError(err) {\n",
       "      outputDiv.innerHTML = `<div class=\"error\" style=\"color:red;\">${err}</div>`;\n",
       "      throw err;\n",
       "    }\n",
       "\n",
       "    function displayChart(vegaEmbed) {\n",
       "      vegaEmbed(outputDiv, spec, embedOpt)\n",
       "        .catch(err => showError(`Javascript Error: ${err.message}<br>This usually means there's a typo in your chart specification. See the javascript console for the full traceback.`));\n",
       "    }\n",
       "\n",
       "    if(typeof define === \"function\" && define.amd) {\n",
       "      requirejs.config({paths});\n",
       "      require([\"vega-embed\"], displayChart, err => showError(`Error loading script: ${err.message}`));\n",
       "    } else if (typeof vegaEmbed === \"function\") {\n",
       "      displayChart(vegaEmbed);\n",
       "    } else {\n",
       "      loadScript(\"vega\")\n",
       "        .then(() => loadScript(\"vega-lite\"))\n",
       "        .then(() => loadScript(\"vega-embed\"))\n",
       "        .catch(showError)\n",
       "        .then(() => displayChart(vegaEmbed));\n",
       "    }\n",
       "  })({\"config\": {\"view\": {\"continuousWidth\": 400, \"continuousHeight\": 300}}, \"data\": {\"name\": \"data-a3ed7b375d90cc0e0e3d96c5ea1cc4a7\"}, \"mark\": \"area\", \"encoding\": {\"color\": {\"type\": \"nominal\", \"field\": \"Tech_name\"}, \"opacity\": {\"condition\": {\"value\": 1, \"selection\": \"selector056\"}, \"value\": 0.1}, \"tooltip\": [{\"type\": \"quantitative\", \"field\": \"YEAR\"}, {\"type\": \"nominal\", \"field\": \"Tech_name\"}, {\"type\": \"quantitative\", \"aggregate\": \"sum\", \"field\": \"VALUE\"}], \"x\": {\"type\": \"nominal\", \"axis\": {\"labelAngle\": 270, \"labelFontSize\": 15, \"titleFontSize\": 20}, \"field\": \"YEAR\"}, \"y\": {\"type\": \"quantitative\", \"aggregate\": \"sum\", \"axis\": {\"labelAngle\": 0, \"labelFontSize\": 15, \"titleFontSize\": 20}, \"field\": \"VALUE\", \"title\": \"Electricity Capacity in GW\"}}, \"height\": 437, \"width\": 614, \"$schema\": \"https://vega.github.io/schema/vega-lite/v4.8.1.json\", \"datasets\": {\"data-a3ed7b375d90cc0e0e3d96c5ea1cc4a7\": [{\"YEAR\": 2019.0, \"Tech_name\": \"FTR-AIR-AIR\", \"VALUE\": 4.9268448}, {\"YEAR\": 2019.0, \"Tech_name\": \"FTR-HCV-DIESEL\", \"VALUE\": 4.460883999996292}, {\"YEAR\": 2019.0, \"Tech_name\": \"FTR-HCV-ELECTRIC\", \"VALUE\": 0.0007985697056905}, {\"YEAR\": 2019.0, \"Tech_name\": \"FTR-HCV-LNG\", \"VALUE\": 0.0006479999866516}, {\"YEAR\": 2019.0, \"Tech_name\": \"FTR-LCV-CNG\", \"VALUE\": 0.011468100001366102}, {\"YEAR\": 2019.0, \"Tech_name\": \"FTR-LCV-DIESEL\", \"VALUE\": 2.9990698538339555}, {\"YEAR\": 2019.0, \"Tech_name\": \"FTR-LCV-ELECTRIC\", \"VALUE\": 0.001823599521402}, {\"YEAR\": 2019.0, \"Tech_name\": \"FTR-LCV-Petrol\", \"VALUE\": 0.18419999998514083}, {\"YEAR\": 2019.0, \"Tech_name\": \"FTR-RAIL-DIESEL\", \"VALUE\": 0.4987424000073221}, {\"YEAR\": 2019.0, \"Tech_name\": \"FTR-RAIL-ELECTRIC\", \"VALUE\": 0.03230886647176}, {\"YEAR\": 2020.0, \"Tech_name\": \"FTR-AIR-AIR\", \"VALUE\": 4.9268448}, {\"YEAR\": 2020.0, \"Tech_name\": \"FTR-HCV-DIESEL\", \"VALUE\": 4.460883999996292}, {\"YEAR\": 2020.0, \"Tech_name\": \"FTR-HCV-ELECTRIC\", \"VALUE\": 0.0007985697056905}, {\"YEAR\": 2020.0, \"Tech_name\": \"FTR-HCV-LNG\", \"VALUE\": 0.0006480000061590167}, {\"YEAR\": 2020.0, \"Tech_name\": \"FTR-LCV-CNG\", \"VALUE\": 0.011468100001076176}, {\"YEAR\": 2020.0, \"Tech_name\": \"FTR-LCV-DIESEL\", \"VALUE\": 2.9990698538210196}, {\"YEAR\": 2020.0, \"Tech_name\": \"FTR-LCV-ELECTRIC\", \"VALUE\": 0.001823599521402}, {\"YEAR\": 2020.0, \"Tech_name\": \"FTR-LCV-Petrol\", \"VALUE\": 0.18419999998514078}, {\"YEAR\": 2020.0, \"Tech_name\": \"FTR-RAIL-DIESEL\", \"VALUE\": 0.4987424000073221}, {\"YEAR\": 2020.0, \"Tech_name\": \"FTR-RAIL-ELECTRIC\", \"VALUE\": 0.03230886647176}, {\"YEAR\": 2021.0, \"Tech_name\": \"FTR-AIR-AIR\", \"VALUE\": 5.1868866}, {\"YEAR\": 2021.0, \"Tech_name\": \"FTR-HCV-DIESEL\", \"VALUE\": 4.67564999999915}, {\"YEAR\": 2021.0, \"Tech_name\": \"FTR-HCV-ELECTRIC\", \"VALUE\": 0.00079950161845705}, {\"YEAR\": 2021.0, \"Tech_name\": \"FTR-HCV-LNG\", \"VALUE\": 0.012149999999528502}, {\"YEAR\": 2021.0, \"Tech_name\": \"FTR-LCV-CNG\", \"VALUE\": 0.0149478999966232}, {\"YEAR\": 2021.0, \"Tech_name\": \"FTR-LCV-DIESEL\", \"VALUE\": 3.14410199999838}, {\"YEAR\": 2021.0, \"Tech_name\": \"FTR-LCV-ELECTRIC\", \"VALUE\": 0.0036602870776467}, {\"YEAR\": 2021.0, \"Tech_name\": \"FTR-LCV-Petrol\", \"VALUE\": 0.19387499998647498}, {\"YEAR\": 2021.0, \"Tech_name\": \"FTR-RAIL-DIESEL\", \"VALUE\": 0.40496571745928645}, {\"YEAR\": 2021.0, \"Tech_name\": \"FTR-RAIL-ELECTRIC\", \"VALUE\": 0.0380362357318336}, {\"YEAR\": 2022.0, \"Tech_name\": \"FTR-AIR-AIR\", \"VALUE\": 5.4469284}, {\"YEAR\": 2022.0, \"Tech_name\": \"FTR-HCV-DIESEL\", \"VALUE\": 4.89056200000894}, {\"YEAR\": 2022.0, \"Tech_name\": \"FTR-HCV-ELECTRIC\", \"VALUE\": 0.0005346761701974626}, {\"YEAR\": 2022.0, \"Tech_name\": \"FTR-HCV-LNG\", \"VALUE\": 0.0236520000036398}, {\"YEAR\": 2022.0, \"Tech_name\": \"FTR-LCV-CNG\", \"VALUE\": 0.0184150000060617}, {\"YEAR\": 2022.0, \"Tech_name\": \"FTR-LCV-DIESEL\", \"VALUE\": 3.256614987023392}, {\"YEAR\": 2022.0, \"Tech_name\": \"FTR-LCV-ELECTRIC\", \"VALUE\": 0.0024421388642559}, {\"YEAR\": 2022.0, \"Tech_name\": \"FTR-LCV-Petrol\", \"VALUE\": 0.20354999998744483}, {\"YEAR\": 2022.0, \"Tech_name\": \"FTR-RAIL-DIESEL\", \"VALUE\": 0.30174582793715066}, {\"YEAR\": 2022.0, \"Tech_name\": \"FTR-RAIL-ELECTRIC\", \"VALUE\": 0.0446593525667155}, {\"YEAR\": 2023.0, \"Tech_name\": \"FTR-AIR-AIR\", \"VALUE\": 5.7070742999999995}, {\"YEAR\": 2023.0, \"Tech_name\": \"FTR-HCV-DIESEL\", \"VALUE\": 5.10532799999055}, {\"YEAR\": 2023.0, \"Tech_name\": \"FTR-HCV-ELECTRIC\", \"VALUE\": 0.0010601265554974}, {\"YEAR\": 2023.0, \"Tech_name\": \"FTR-HCV-LNG\", \"VALUE\": 0.0350730000039039}, {\"YEAR\": 2023.0, \"Tech_name\": \"FTR-LCV-CNG\", \"VALUE\": 0.0218820999970194}, {\"YEAR\": 2023.0, \"Tech_name\": \"FTR-LCV-DIESEL\", \"VALUE\": 3.4308552449872276}, {\"YEAR\": 2023.0, \"Tech_name\": \"FTR-LCV-ELECTRIC\", \"VALUE\": 0.002501582303357}, {\"YEAR\": 2023.0, \"Tech_name\": \"FTR-LCV-Petrol\", \"VALUE\": 0.213224999988597}, {\"YEAR\": 2023.0, \"Tech_name\": \"FTR-RAIL-DIESEL\", \"VALUE\": 0.2630100182686907}, {\"YEAR\": 2023.0, \"Tech_name\": \"FTR-RAIL-ELECTRIC\", \"VALUE\": 0.0505045374506541}, {\"YEAR\": 2024.0, \"Tech_name\": \"FTR-AIR-AIR\", \"VALUE\": 5.967116100000001}, {\"YEAR\": 2024.0, \"Tech_name\": \"FTR-HCV-DIESEL\", \"VALUE\": 5.32024000000034}, {\"YEAR\": 2024.0, \"Tech_name\": \"FTR-HCV-ELECTRIC\", \"VALUE\": 0.0010601265554974}, {\"YEAR\": 2024.0, \"Tech_name\": \"FTR-HCV-LNG\", \"VALUE\": 0.0465749999962281}, {\"YEAR\": 2024.0, \"Tech_name\": \"FTR-LCV-CNG\", \"VALUE\": 0.025361899992276418}, {\"YEAR\": 2024.0, \"Tech_name\": \"FTR-LCV-DIESEL\", \"VALUE\": 3.5788740000251003}, {\"YEAR\": 2024.0, \"Tech_name\": \"FTR-LCV-ELECTRIC\", \"VALUE\": 0.002501582303357}, {\"YEAR\": 2024.0, \"Tech_name\": \"FTR-LCV-Petrol\", \"VALUE\": 0.222899999989747}, {\"YEAR\": 2024.0, \"Tech_name\": \"FTR-RAIL-DIESEL\", \"VALUE\": 0.1611902555170238}, {\"YEAR\": 2024.0, \"Tech_name\": \"FTR-RAIL-ELECTRIC\", \"VALUE\": 0.0563497223353489}, {\"YEAR\": 2025.0, \"Tech_name\": \"FTR-AIR-AIR\", \"VALUE\": 6.227157899999999}, {\"YEAR\": 2025.0, \"Tech_name\": \"FTR-HCV-B20\", \"VALUE\": 5.535006000003162}, {\"YEAR\": 2025.0, \"Tech_name\": \"FTR-HCV-ELECTRIC\", \"VALUE\": 0.0010601265554974}, {\"YEAR\": 2025.0, \"Tech_name\": \"FTR-HCV-LNG\", \"VALUE\": 0.05807700000232}, {\"YEAR\": 2025.0, \"Tech_name\": \"FTR-LCV-B20\", \"VALUE\": 3.7237979999964814}, {\"YEAR\": 2025.0, \"Tech_name\": \"FTR-LCV-CNG\", \"VALUE\": 0.02882900000171501}, {\"YEAR\": 2025.0, \"Tech_name\": \"FTR-LCV-ELECTRIC\", \"VALUE\": 0.002501582303357}, {\"YEAR\": 2025.0, \"Tech_name\": \"FTR-LCV-Petrol\", \"VALUE\": 0.23257499999090311}, {\"YEAR\": 2025.0, \"Tech_name\": \"FTR-RAIL-ELECTRIC\", \"VALUE\": 0.0621942299878098}, {\"YEAR\": 2026.0, \"Tech_name\": \"FTR-AIR-AIR\", \"VALUE\": 6.5550729}, {\"YEAR\": 2026.0, \"Tech_name\": \"FTR-HCV-B20\", \"VALUE\": 5.80043399999034}, {\"YEAR\": 2026.0, \"Tech_name\": \"FTR-HCV-ELECTRIC\", \"VALUE\": 0.0010601266534934}, {\"YEAR\": 2026.0, \"Tech_name\": \"FTR-HCV-LNG\", \"VALUE\": 0.0755729999944742}, {\"YEAR\": 2026.0, \"Tech_name\": \"FTR-LCV-B20\", \"VALUE\": 3.90304200000828}, {\"YEAR\": 2026.0, \"Tech_name\": \"FTR-LCV-CNG\", \"VALUE\": 0.0322960999926727}, {\"YEAR\": 2026.0, \"Tech_name\": \"FTR-LCV-ELECTRIC\", \"VALUE\": 0.0025015821824776}, {\"YEAR\": 2026.0, \"Tech_name\": \"FTR-LCV-Petrol\", \"VALUE\": 0.24476250002397926}, {\"YEAR\": 2026.0, \"Tech_name\": \"FTR-RAIL-ELECTRIC\", \"VALUE\": 0.05920671213839378}, {\"YEAR\": 2027.0, \"Tech_name\": \"FTR-AIR-AIR\", \"VALUE\": 6.883092}, {\"YEAR\": 2027.0, \"Tech_name\": \"FTR-HCV-B20\", \"VALUE\": 6.06600800000568}, {\"YEAR\": 2027.0, \"Tech_name\": \"FTR-HCV-ELECTRIC\", \"VALUE\": 0.0010601265554974}, {\"YEAR\": 2027.0, \"Tech_name\": \"FTR-HCV-LNG\", \"VALUE\": 0.0930690000009428}, {\"YEAR\": 2027.0, \"Tech_name\": \"FTR-LCV-B20\", \"VALUE\": 4.082286000020393}, {\"YEAR\": 2027.0, \"Tech_name\": \"FTR-LCV-CNG\", \"VALUE\": 0.0357632000021113}, {\"YEAR\": 2027.0, \"Tech_name\": \"FTR-LCV-ELECTRIC\", \"VALUE\": 0.0025822785332072}, {\"YEAR\": 2027.0, \"Tech_name\": \"FTR-LCV-Petrol\", \"VALUE\": 0.2569500000026873}, {\"YEAR\": 2027.0, \"Tech_name\": \"FTR-RAIL-ELECTRIC\", \"VALUE\": 0.06182201357121345}, {\"YEAR\": 2028.0, \"Tech_name\": \"FTR-AIR-AIR\", \"VALUE\": 7.2110069999999995}, {\"YEAR\": 2028.0, \"Tech_name\": \"FTR-HCV-B20\", \"VALUE\": 6.33143599999283}, {\"YEAR\": 2028.0, \"Tech_name\": \"FTR-HCV-ELECTRIC\", \"VALUE\": 0.0010601265554974}, {\"YEAR\": 2028.0, \"Tech_name\": \"FTR-HCV-LNG\", \"VALUE\": 0.110646000008072}, {\"YEAR\": 2028.0, \"Tech_name\": \"FTR-LCV-B20\", \"VALUE\": 4.2614910000193005}, {\"YEAR\": 2028.0, \"Tech_name\": \"FTR-LCV-CNG\", \"VALUE\": 0.03924299999736831}, {\"YEAR\": 2028.0, \"Tech_name\": \"FTR-LCV-ELECTRIC\", \"VALUE\": 0.0025822785332072}, {\"YEAR\": 2028.0, \"Tech_name\": \"FTR-LCV-Petrol\", \"VALUE\": 0.2691374999810518}, {\"YEAR\": 2028.0, \"Tech_name\": \"FTR-RAIL-ELECTRIC\", \"VALUE\": 0.06146412709805813}, {\"YEAR\": 2029.0, \"Tech_name\": \"FTR-AIR-AIR\", \"VALUE\": 7.5390261}, {\"YEAR\": 2029.0, \"Tech_name\": \"FTR-HCV-B20\", \"VALUE\": 6.597010000008159}, {\"YEAR\": 2029.0, \"Tech_name\": \"FTR-HCV-ELECTRIC\", \"VALUE\": 0.0005323798037937}, {\"YEAR\": 2029.0, \"Tech_name\": \"FTR-HCV-LNG\", \"VALUE\": 0.1281420000043}, {\"YEAR\": 2029.0, \"Tech_name\": \"FTR-LCV-B20\", \"VALUE\": 4.440734999974684}, {\"YEAR\": 2029.0, \"Tech_name\": \"FTR-LCV-CNG\", \"VALUE\": 0.042710100006806896}, {\"YEAR\": 2029.0, \"Tech_name\": \"FTR-LCV-ELECTRIC\", \"VALUE\": 0.0012944120123125}, {\"YEAR\": 2029.0, \"Tech_name\": \"FTR-LCV-Petrol\", \"VALUE\": 0.281325000014476}, {\"YEAR\": 2029.0, \"Tech_name\": \"FTR-RAIL-ELECTRIC\", \"VALUE\": 0.05702763958910735}, {\"YEAR\": 2030.0, \"Tech_name\": \"FTR-AIR-AIR\", \"VALUE\": 7.866941100000001}, {\"YEAR\": 2030.0, \"Tech_name\": \"FTR-HCV-B20\", \"VALUE\": 6.8624379999953105}, {\"YEAR\": 2030.0, \"Tech_name\": \"FTR-HCV-ELECTRIC\", \"VALUE\": 0.0005323798037937}, {\"YEAR\": 2030.0, \"Tech_name\": \"FTR-HCV-LNG\", \"VALUE\": 0.145638000001583}, {\"YEAR\": 2030.0, \"Tech_name\": \"FTR-LCV-B20\", \"VALUE\": 4.61997899998678}, {\"YEAR\": 2030.0, \"Tech_name\": \"FTR-LCV-CNG\", \"VALUE\": 0.04617719999776452}, {\"YEAR\": 2030.0, \"Tech_name\": \"FTR-LCV-ELECTRIC\", \"VALUE\": 0.0025822785332072}, {\"YEAR\": 2030.0, \"Tech_name\": \"FTR-LCV-Petrol\", \"VALUE\": 0.29351249998890233}, {\"YEAR\": 2030.0, \"Tech_name\": \"FTR-RAIL-ELECTRIC\", \"VALUE\": 0.061336028058504494}, {\"YEAR\": 2031.0, \"Tech_name\": \"FTR-AIR-AIR\", \"VALUE\": 8.2804263}, {\"YEAR\": 2031.0, \"Tech_name\": \"FTR-HCV-B20\", \"VALUE\": 7.19020799999038}, {\"YEAR\": 2031.0, \"Tech_name\": \"FTR-HCV-ELECTRIC\", \"VALUE\": 0.0005323798037937}, {\"YEAR\": 2031.0, \"Tech_name\": \"FTR-HCV-LNG\", \"VALUE\": 0.17155800000943}, {\"YEAR\": 2031.0, \"Tech_name\": \"FTR-LCV-B20\", \"VALUE\": 4.841459999996002}, {\"YEAR\": 2031.0, \"Tech_name\": \"FTR-LCV-CNG\", \"VALUE\": 0.0496569999926609}, {\"YEAR\": 2031.0, \"Tech_name\": \"FTR-LCV-ELECTRIC\", \"VALUE\": 0.0012562574618368}, {\"YEAR\": 2031.0, \"Tech_name\": \"FTR-LCV-Petrol\", \"VALUE\": 0.308887500013952}, {\"YEAR\": 2031.0, \"Tech_name\": \"FTR-RAIL-ELECTRIC\", \"VALUE\": 0.06046866735427903}, {\"YEAR\": 2032.0, \"Tech_name\": \"FTR-AIR-AIR\", \"VALUE\": 8.6939115}, {\"YEAR\": 2032.0, \"Tech_name\": \"FTR-HCV-B20\", \"VALUE\": 7.5179780000067}, {\"YEAR\": 2032.0, \"Tech_name\": \"FTR-HCV-ELECTRIC\", \"VALUE\": 0.0005323798037937}, {\"YEAR\": 2032.0, \"Tech_name\": \"FTR-HCV-LNG\", \"VALUE\": 0.197478000000377}, {\"YEAR\": 2032.0, \"Tech_name\": \"FTR-LCV-B20\", \"VALUE\": 5.06298000001843}, {\"YEAR\": 2032.0, \"Tech_name\": \"FTR-LCV-CNG\", \"VALUE\": 0.0531240999825896}, {\"YEAR\": 2032.0, \"Tech_name\": \"FTR-LCV-ELECTRIC\", \"VALUE\": 0.0012562574618368}, {\"YEAR\": 2032.0, \"Tech_name\": \"FTR-LCV-Petrol\", \"VALUE\": 0.324225000022125}, {\"YEAR\": 2032.0, \"Tech_name\": \"FTR-RAIL-ELECTRIC\", \"VALUE\": 0.0641085}, {\"YEAR\": 2033.0, \"Tech_name\": \"FTR-AIR-AIR\", \"VALUE\": 9.1075008}, {\"YEAR\": 2033.0, \"Tech_name\": \"FTR-HCV-B20\", \"VALUE\": 7.845894000008701}, {\"YEAR\": 2033.0, \"Tech_name\": \"FTR-HCV-ELECTRIC\", \"VALUE\": 0.0005323798037937}, {\"YEAR\": 2033.0, \"Tech_name\": \"FTR-HCV-LNG\", \"VALUE\": 0.223397999999264}, {\"YEAR\": 2033.0, \"Tech_name\": \"FTR-LCV-B20\", \"VALUE\": 5.28446100002766}, {\"YEAR\": 2033.0, \"Tech_name\": \"FTR-LCV-CNG\", \"VALUE\": 0.0565911999952985}, {\"YEAR\": 2033.0, \"Tech_name\": \"FTR-LCV-ELECTRIC\", \"VALUE\": 0.0012562574618368}, {\"YEAR\": 2033.0, \"Tech_name\": \"FTR-LCV-Petrol\", \"VALUE\": 0.339562499975727}, {\"YEAR\": 2033.0, \"Tech_name\": \"FTR-RAIL-ELECTRIC\", \"VALUE\": 0.0671575}, {\"YEAR\": 2034.0, \"Tech_name\": \"FTR-AIR-AIR\", \"VALUE\": 9.520986}, {\"YEAR\": 2034.0, \"Tech_name\": \"FTR-HCV-B20\", \"VALUE\": 8.173664000003773}, {\"YEAR\": 2034.0, \"Tech_name\": \"FTR-HCV-ELECTRIC\", \"VALUE\": 0.0005323798037937}, {\"YEAR\": 2034.0, \"Tech_name\": \"FTR-HCV-LNG\", \"VALUE\": 0.249318000001999}, {\"YEAR\": 2034.0, \"Tech_name\": \"FTR-LCV-B20\", \"VALUE\": 5.50598099999334}, {\"YEAR\": 2034.0, \"Tech_name\": \"FTR-LCV-CNG\", \"VALUE\": 0.04788960552621931}, {\"YEAR\": 2034.0, \"Tech_name\": \"FTR-LCV-ELECTRIC\", \"VALUE\": 0.039985053025132}, {\"YEAR\": 2034.0, \"Tech_name\": \"FTR-LCV-Petrol\", \"VALUE\": 0.354937499996595}, {\"YEAR\": 2034.0, \"Tech_name\": \"FTR-RAIL-ELECTRIC\", \"VALUE\": 0.0702065}, {\"YEAR\": 2035.0, \"Tech_name\": \"FTR-AIR-AIR\", \"VALUE\": 9.9344712}, {\"YEAR\": 2035.0, \"Tech_name\": \"FTR-HCV-B20\", \"VALUE\": 8.50143399999885}, {\"YEAR\": 2035.0, \"Tech_name\": \"FTR-HCV-ELECTRIC\", \"VALUE\": 0.0702520514137066}, {\"YEAR\": 2035.0, \"Tech_name\": \"FTR-HCV-LNG\", \"VALUE\": 0.254022720170682}, {\"YEAR\": 2035.0, \"Tech_name\": \"FTR-LCV-B20\", \"VALUE\": 5.72746200000256}, {\"YEAR\": 2035.0, \"Tech_name\": \"FTR-LCV-CNG\", \"VALUE\": 0.044195999992371095}, {\"YEAR\": 2035.0, \"Tech_name\": \"FTR-LCV-ELECTRIC\", \"VALUE\": 0.0629344457853034}, {\"YEAR\": 2035.0, \"Tech_name\": \"FTR-LCV-Petrol\", \"VALUE\": 0.37027500000476693}, {\"YEAR\": 2035.0, \"Tech_name\": \"FTR-RAIL-ELECTRIC\", \"VALUE\": 0.073256}, {\"YEAR\": 2036.0, \"Tech_name\": \"FTR-AIR-AIR\", \"VALUE\": 10.4555958}, {\"YEAR\": 2036.0, \"Tech_name\": \"FTR-HCV-B20\", \"VALUE\": 8.90585400000156}, {\"YEAR\": 2036.0, \"Tech_name\": \"FTR-HCV-ELECTRIC\", \"VALUE\": 0.163653016912195}, {\"YEAR\": 2036.0, \"Tech_name\": \"FTR-HCV-LNG\", \"VALUE\": 0.2631043639856881}, {\"YEAR\": 2036.0, \"Tech_name\": \"FTR-LCV-B20\", \"VALUE\": 6.00100799998764}, {\"YEAR\": 2036.0, \"Tech_name\": \"FTR-LCV-CNG\", \"VALUE\": 0.04305299999352421}, {\"YEAR\": 2036.0, \"Tech_name\": \"FTR-LCV-ELECTRIC\", \"VALUE\": 0.100297973820587}, {\"YEAR\": 2036.0, \"Tech_name\": \"FTR-LCV-Petrol\", \"VALUE\": 0.36862499999188286}, {\"YEAR\": 2036.0, \"Tech_name\": \"FTR-RAIL-ELECTRIC\", \"VALUE\": 0.077099}, {\"YEAR\": 2037.0, \"Tech_name\": \"FTR-AIR-AIR\", \"VALUE\": 10.9768245}, {\"YEAR\": 2037.0, \"Tech_name\": \"FTR-HCV-B20\", \"VALUE\": 9.31027400000428}, {\"YEAR\": 2037.0, \"Tech_name\": \"FTR-HCV-ELECTRIC\", \"VALUE\": 0.310561083147369}, {\"YEAR\": 2037.0, \"Tech_name\": \"FTR-HCV-LNG\", \"VALUE\": 0.255904116491898}, {\"YEAR\": 2037.0, \"Tech_name\": \"FTR-LCV-B20\", \"VALUE\": 6.274515000016261}, {\"YEAR\": 2037.0, \"Tech_name\": \"FTR-LCV-CNG\", \"VALUE\": 0.0416560000010941}, {\"YEAR\": 2037.0, \"Tech_name\": \"FTR-LCV-ELECTRIC\", \"VALUE\": 0.14232181164358}, {\"YEAR\": 2037.0, \"Tech_name\": \"FTR-LCV-Petrol\", \"VALUE\": 0.36337500001536865}, {\"YEAR\": 2037.0, \"Tech_name\": \"FTR-RAIL-ELECTRIC\", \"VALUE\": 0.080942}, {\"YEAR\": 2038.0, \"Tech_name\": \"FTR-AIR-AIR\", \"VALUE\": 11.4979491}, {\"YEAR\": 2038.0, \"Tech_name\": \"FTR-HCV-B20\", \"VALUE\": 9.71483999999269}, {\"YEAR\": 2038.0, \"Tech_name\": \"FTR-HCV-ELECTRIC\", \"VALUE\": 0.477451494783419}, {\"YEAR\": 2038.0, \"Tech_name\": \"FTR-HCV-LNG\", \"VALUE\": 0.24246136059814502}, {\"YEAR\": 2038.0, \"Tech_name\": \"FTR-LCV-B20\", \"VALUE\": 6.54806100000133}, {\"YEAR\": 2038.0, \"Tech_name\": \"FTR-LCV-CNG\", \"VALUE\": 0.0400049999965995}, {\"YEAR\": 2038.0, \"Tech_name\": \"FTR-LCV-ELECTRIC\", \"VALUE\": 0.188073897481295}, {\"YEAR\": 2038.0, \"Tech_name\": \"FTR-LCV-Petrol\", \"VALUE\": 0.355500000023312}, {\"YEAR\": 2038.0, \"Tech_name\": \"FTR-RAIL-ELECTRIC\", \"VALUE\": 0.084785}, {\"YEAR\": 2039.0, \"Tech_name\": \"FTR-AIR-AIR\", \"VALUE\": 12.0190737}, {\"YEAR\": 2039.0, \"Tech_name\": \"FTR-HCV-B20\", \"VALUE\": 10.1192599999954}, {\"YEAR\": 2039.0, \"Tech_name\": \"FTR-HCV-ELECTRIC\", \"VALUE\": 0.611092536649653}, {\"YEAR\": 2039.0, \"Tech_name\": \"FTR-HCV-LNG\", \"VALUE\": 0.23929818941370903}, {\"YEAR\": 2039.0, \"Tech_name\": \"FTR-LCV-B20\", \"VALUE\": 6.821567999973191}, {\"YEAR\": 2039.0, \"Tech_name\": \"FTR-LCV-CNG\", \"VALUE\": 0.03797299999248933}, {\"YEAR\": 2039.0, \"Tech_name\": \"FTR-LCV-ELECTRIC\", \"VALUE\": 0.23900058182449202}, {\"YEAR\": 2039.0, \"Tech_name\": \"FTR-LCV-Petrol\", \"VALUE\": 0.34387500001685095}, {\"YEAR\": 2039.0, \"Tech_name\": \"FTR-RAIL-ELECTRIC\", \"VALUE\": 0.088628}, {\"YEAR\": 2040.0, \"Tech_name\": \"FTR-AIR-AIR\", \"VALUE\": 12.5403024}, {\"YEAR\": 2040.0, \"Tech_name\": \"FTR-HCV-B20\", \"VALUE\": 10.5236799999981}, {\"YEAR\": 2040.0, \"Tech_name\": \"FTR-HCV-ELECTRIC\", \"VALUE\": 0.511108990378618}, {\"YEAR\": 2040.0, \"Tech_name\": \"FTR-HCV-LNG\", \"VALUE\": 0.230421077826185}, {\"YEAR\": 2040.0, \"Tech_name\": \"FTR-LCV-B20\", \"VALUE\": 7.09511400001502}, {\"YEAR\": 2040.0, \"Tech_name\": \"FTR-LCV-CNG\", \"VALUE\": 0.035814000000827934}, {\"YEAR\": 2040.0, \"Tech_name\": \"FTR-LCV-ELECTRIC\", \"VALUE\": 0.19675987691921767}, {\"YEAR\": 2040.0, \"Tech_name\": \"FTR-LCV-Petrol\", \"VALUE\": 0.3289116887191979}, {\"YEAR\": 2040.0, \"Tech_name\": \"FTR-RAIL-ELECTRIC\", \"VALUE\": 0.09247100000000001}, {\"YEAR\": 2041.0, \"Tech_name\": \"FTR-AIR-AIR\", \"VALUE\": 13.1968611}, {\"YEAR\": 2041.0, \"Tech_name\": \"FTR-HCV-B20\", \"VALUE\": 11.0222699999908}, {\"YEAR\": 2041.0, \"Tech_name\": \"FTR-HCV-ELECTRIC\", \"VALUE\": 0.664593485256624}, {\"YEAR\": 2041.0, \"Tech_name\": \"FTR-HCV-LNG\", \"VALUE\": 0.214752087845839}, {\"YEAR\": 2041.0, \"Tech_name\": \"FTR-LCV-B20\", \"VALUE\": 7.432658999986599}, {\"YEAR\": 2041.0, \"Tech_name\": \"FTR-LCV-CNG\", \"VALUE\": 0.0334009999971022}, {\"YEAR\": 2041.0, \"Tech_name\": \"FTR-LCV-ELECTRIC\", \"VALUE\": 0.240611200031959}, {\"YEAR\": 2041.0, \"Tech_name\": \"FTR-LCV-Petrol\", \"VALUE\": 0.3108749999773853}, {\"YEAR\": 2041.0, \"Tech_name\": \"FTR-RAIL-ELECTRIC\", \"VALUE\": 0.097313}, {\"YEAR\": 2042.0, \"Tech_name\": \"FTR-AIR-AIR\", \"VALUE\": 13.8535239}, {\"YEAR\": 2042.0, \"Tech_name\": \"FTR-HCV-B20\", \"VALUE\": 11.5210059999904}, {\"YEAR\": 2042.0, \"Tech_name\": \"FTR-HCV-ELECTRIC\", \"VALUE\": 0.8305964483085887}, {\"YEAR\": 2042.0, \"Tech_name\": \"FTR-HCV-LNG\", \"VALUE\": 0.190977001234907}, {\"YEAR\": 2042.0, \"Tech_name\": \"FTR-LCV-B20\", \"VALUE\": 7.770204000014928}, {\"YEAR\": 2042.0, \"Tech_name\": \"FTR-LCV-CNG\", \"VALUE\": 0.030733999999793}, {\"YEAR\": 2042.0, \"Tech_name\": \"FTR-LCV-ELECTRIC\", \"VALUE\": 0.427411203800346}, {\"YEAR\": 2042.0, \"Tech_name\": \"FTR-LCV-Petrol\", \"VALUE\": 0.289499999998952}, {\"YEAR\": 2042.0, \"Tech_name\": \"FTR-RAIL-ELECTRIC\", \"VALUE\": 0.10723509388759389}, {\"YEAR\": 2043.0, \"Tech_name\": \"FTR-AIR-AIR\", \"VALUE\": 14.5101867}, {\"YEAR\": 2043.0, \"Tech_name\": \"FTR-HCV-B20\", \"VALUE\": 12.0195960000044}, {\"YEAR\": 2043.0, \"Tech_name\": \"FTR-HCV-ELECTRIC\", \"VALUE\": 1.45800800809243}, {\"YEAR\": 2043.0, \"Tech_name\": \"FTR-HCV-LNG\", \"VALUE\": 0.179064867660463}, {\"YEAR\": 2043.0, \"Tech_name\": \"FTR-LCV-B20\", \"VALUE\": 8.107709999973304}, {\"YEAR\": 2043.0, \"Tech_name\": \"FTR-LCV-CNG\", \"VALUE\": 0.0278130000089004}, {\"YEAR\": 2043.0, \"Tech_name\": \"FTR-LCV-ELECTRIC\", \"VALUE\": 0.500760429055732}, {\"YEAR\": 2043.0, \"Tech_name\": \"FTR-LCV-Petrol\", \"VALUE\": 0.264750000023923}, {\"YEAR\": 2043.0, \"Tech_name\": \"FTR-RAIL-ELECTRIC\", \"VALUE\": 0.10447536131386863}, {\"YEAR\": 2044.0, \"Tech_name\": \"FTR-AIR-AIR\", \"VALUE\": 15.1668495}, {\"YEAR\": 2044.0, \"Tech_name\": \"FTR-HCV-B20\", \"VALUE\": 12.518332000004}, {\"YEAR\": 2044.0, \"Tech_name\": \"FTR-HCV-ELECTRIC\", \"VALUE\": 1.1337800512988434}, {\"YEAR\": 2044.0, \"Tech_name\": \"FTR-HCV-LNG\", \"VALUE\": 0.160018423473091}, {\"YEAR\": 2044.0, \"Tech_name\": \"FTR-LCV-B20\", \"VALUE\": 8.445255000001627}, {\"YEAR\": 2044.0, \"Tech_name\": \"FTR-LCV-CNG\", \"VALUE\": 0.0246380000059435}, {\"YEAR\": 2044.0, \"Tech_name\": \"FTR-LCV-ELECTRIC\", \"VALUE\": 0.38735896340318227}, {\"YEAR\": 2044.0, \"Tech_name\": \"FTR-LCV-Petrol\", \"VALUE\": 0.23559416060671587}, {\"YEAR\": 2044.0, \"Tech_name\": \"FTR-RAIL-ELECTRIC\", \"VALUE\": 0.1118385}, {\"YEAR\": 2045.0, \"Tech_name\": \"FTR-AIR-AIR\", \"VALUE\": 15.823408199999998}, {\"YEAR\": 2045.0, \"Tech_name\": \"FTR-HCV-B20\", \"VALUE\": 13.016921999996702}, {\"YEAR\": 2045.0, \"Tech_name\": \"FTR-HCV-ELECTRIC\", \"VALUE\": 1.31321088016219}, {\"YEAR\": 2045.0, \"Tech_name\": \"FTR-HCV-LNG\", \"VALUE\": 0.13173888126038416}, {\"YEAR\": 2045.0, \"Tech_name\": \"FTR-LCV-B20\", \"VALUE\": 8.782799999973212}, {\"YEAR\": 2045.0, \"Tech_name\": \"FTR-LCV-CNG\", \"VALUE\": 0.022849283190602383}, {\"YEAR\": 2045.0, \"Tech_name\": \"FTR-LCV-ELECTRIC\", \"VALUE\": 0.4426613275837113}, {\"YEAR\": 2045.0, \"Tech_name\": \"FTR-LCV-Petrol\", \"VALUE\": 0.20106427935226742}, {\"YEAR\": 2045.0, \"Tech_name\": \"FTR-RAIL-ELECTRIC\", \"VALUE\": 0.1166805}, {\"YEAR\": 2046.0, \"Tech_name\": \"FTR-AIR-AIR\", \"VALUE\": 16.6504827}, {\"YEAR\": 2046.0, \"Tech_name\": \"FTR-HCV-B20\", \"VALUE\": 13.6312900000071}, {\"YEAR\": 2046.0, \"Tech_name\": \"FTR-HCV-ELECTRIC\", \"VALUE\": 1.5074442656434979}, {\"YEAR\": 2046.0, \"Tech_name\": \"FTR-HCV-LNG\", \"VALUE\": 0.11899559552252299}, {\"YEAR\": 2046.0, \"Tech_name\": \"FTR-LCV-B20\", \"VALUE\": 9.19896900000167}, {\"YEAR\": 2046.0, \"Tech_name\": \"FTR-LCV-CNG\", \"VALUE\": 0.0173989999947662}, {\"YEAR\": 2046.0, \"Tech_name\": \"FTR-LCV-ELECTRIC\", \"VALUE\": 0.753916567366568}, {\"YEAR\": 2046.0, \"Tech_name\": \"FTR-LCV-Petrol\", \"VALUE\": 0.1953263934863877}, {\"YEAR\": 2046.0, \"Tech_name\": \"FTR-RAIL-ELECTRIC\", \"VALUE\": 0.1227795}, {\"YEAR\": 2047.0, \"Tech_name\": \"FTR-AIR-AIR\", \"VALUE\": 17.4775572}, {\"YEAR\": 2047.0, \"Tech_name\": \"FTR-HCV-B20\", \"VALUE\": 14.245511999989398}, {\"YEAR\": 2047.0, \"Tech_name\": \"FTR-HCV-ELECTRIC\", \"VALUE\": 1.7164944240078999}, {\"YEAR\": 2047.0, \"Tech_name\": \"FTR-HCV-LNG\", \"VALUE\": 0.10162737947284833}, {\"YEAR\": 2047.0, \"Tech_name\": \"FTR-LCV-B20\", \"VALUE\": 9.615176999986568}, {\"YEAR\": 2047.0, \"Tech_name\": \"FTR-LCV-CNG\", \"VALUE\": 0.010390229755897283}, {\"YEAR\": 2047.0, \"Tech_name\": \"FTR-LCV-ELECTRIC\", \"VALUE\": 0.851418355229921}, {\"YEAR\": 2047.0, \"Tech_name\": \"FTR-LCV-Petrol\", \"VALUE\": 0.18050709143410673}, {\"YEAR\": 2047.0, \"Tech_name\": \"FTR-RAIL-ELECTRIC\", \"VALUE\": 0.128878}, {\"YEAR\": 2048.0, \"Tech_name\": \"FTR-AIR-AIR\", \"VALUE\": 18.3046317}, {\"YEAR\": 2048.0, \"Tech_name\": \"FTR-HCV-B20\", \"VALUE\": 14.8598799999998}, {\"YEAR\": 2048.0, \"Tech_name\": \"FTR-HCV-ELECTRIC\", \"VALUE\": 1.9444828752637797}, {\"YEAR\": 2048.0, \"Tech_name\": \"FTR-HCV-LNG\", \"VALUE\": 0.07175379426413873}, {\"YEAR\": 2048.0, \"Tech_name\": \"FTR-LCV-B20\", \"VALUE\": 10.0313850000282}, {\"YEAR\": 2048.0, \"Tech_name\": \"FTR-LCV-CNG\", \"VALUE\": 0.02100513536544255}, {\"YEAR\": 2048.0, \"Tech_name\": \"FTR-LCV-ELECTRIC\", \"VALUE\": 0.953013110809717}, {\"YEAR\": 2048.0, \"Tech_name\": \"FTR-LCV-Petrol\", \"VALUE\": 0.18270395119196167}, {\"YEAR\": 2048.0, \"Tech_name\": \"FTR-RAIL-ELECTRIC\", \"VALUE\": 0.134976499999902}, {\"YEAR\": 2049.0, \"Tech_name\": \"FTR-AIR-AIR\", \"VALUE\": 19.1317062}, {\"YEAR\": 2049.0, \"Tech_name\": \"FTR-HCV-B20\", \"VALUE\": 15.4741020000033}, {\"YEAR\": 2049.0, \"Tech_name\": \"FTR-HCV-LNG\", \"VALUE\": 0.02909222419465136}, {\"YEAR\": 2049.0, \"Tech_name\": \"FTR-LCV-B20\", \"VALUE\": 10.4475930000131}, {\"YEAR\": 2049.0, \"Tech_name\": \"FTR-LCV-CNG\", \"VALUE\": 0.013868273269688623}, {\"YEAR\": 2049.0, \"Tech_name\": \"FTR-LCV-ELECTRIC\", \"VALUE\": 1.04521663477081}, {\"YEAR\": 2049.0, \"Tech_name\": \"FTR-LCV-Petrol\", \"VALUE\": 0.04762500002470918}, {\"YEAR\": 2050.0, \"Tech_name\": \"FTR-AIR-AIR\", \"VALUE\": 19.9587807}, {\"YEAR\": 2050.0, \"Tech_name\": \"FTR-HCV-B20\", \"VALUE\": 16.0884699999925}, {\"YEAR\": 2050.0, \"Tech_name\": \"FTR-HCV-ELECTRIC\", \"VALUE\": 2.4275044639673133}, {\"YEAR\": 2050.0, \"Tech_name\": \"FTR-LCV-B20\", \"VALUE\": 10.8637619999849}, {\"YEAR\": 2050.0, \"Tech_name\": \"FTR-LCV-ELECTRIC\", \"VALUE\": 1.17030512516473}, {\"YEAR\": 2050.0, \"Tech_name\": \"FTR-RAIL-ELECTRIC\", \"VALUE\": 0.147174}]}}, {\"mode\": \"vega-lite\"});\n",
       "</script>"
      ],
      "text/plain": [
       "alt.Chart(...)"
      ]
     },
     "execution_count": 79,
     "metadata": {},
     "output_type": "execute_result"
    }
   ],
   "source": []
  },
  {
   "cell_type": "code",
   "execution_count": null,
   "metadata": {},
   "outputs": [],
   "source": []
  }
 ],
 "metadata": {
  "interpreter": {
   "hash": "2270682fbfaa6ca5852241b7063f08d1e40231ac19ce9424625faeb16f81c7cb"
  },
  "kernelspec": {
   "display_name": "Python 3 (ipykernel)",
   "language": "python",
   "name": "python3"
  },
  "language_info": {
   "codemirror_mode": {
    "name": "ipython",
    "version": 3
   },
   "file_extension": ".py",
   "mimetype": "text/x-python",
   "name": "python",
   "nbconvert_exporter": "python",
   "pygments_lexer": "ipython3",
   "version": "3.10.5"
  }
 },
 "nbformat": 4,
 "nbformat_minor": 2
}
